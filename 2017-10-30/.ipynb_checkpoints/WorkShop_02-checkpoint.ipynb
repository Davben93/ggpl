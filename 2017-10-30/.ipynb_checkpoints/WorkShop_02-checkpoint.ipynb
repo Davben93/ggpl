{
 "cells": [
  {
   "cell_type": "markdown",
   "metadata": {},
   "source": [
    "# IKEA"
   ]
  },
  {
   "cell_type": "code",
   "execution_count": 1,
   "metadata": {},
   "outputs": [],
   "source": [
    "# MODELLAZIONE PARAMETRICA"
   ]
  },
  {
   "cell_type": "code",
   "execution_count": 1,
   "metadata": {},
   "outputs": [
    {
     "name": "stdout",
     "output_type": "stream",
     "text": [
      "Evaluating fenvs.py..\n",
      "...fenvs.py imported in 0.055234 seconds\n"
     ]
    }
   ],
   "source": [
    "from larlib import *"
   ]
  },
  {
   "cell_type": "markdown",
   "metadata": {},
   "source": [
    "![scaffalone_bianco](scaffalone_bianco.png)"
   ]
  },
  {
   "cell_type": "code",
   "execution_count": 3,
   "metadata": {},
   "outputs": [],
   "source": [
    "def cube():\n",
    "    return CUBOID([1,1,1]);\n",
    "\n",
    "def scaffale5():\n",
    "    ass1 = TOP([cube(),cube()])\n",
    "    ass2 = TOP([ass1,cube()])\n",
    "    ass3 = TOP([ass2,cube()])\n",
    "    scaffale = TOP([ass3,cube()])\n",
    "    return scaffale\n",
    "\n",
    "def scaffaleBianco():\n",
    "    assemblySK = SKEL_1(scaffale5())\n",
    "    scaffaleBianco = COLOR(WHITE)(SWEEP([0.2,0.2,0.2])(assemblySK))\n",
    "    return scaffaleBianco\n",
    "\n",
    "def scaffaloneDoppio():\n",
    "    scaffaloneDoppio = RIGHT([scaffaleBianco(),scaffaleBianco()])\n",
    "    return scaffaloneDoppio\n",
    "\n",
    "def scaffaloneQuadruplo():\n",
    "    scaffaloneQuadruplo = RIGHT([scaffaloneDoppio(),scaffaloneDoppio()])\n",
    "    return scaffaloneQuadruplo\n",
    "\n",
    "def cinqueScaffali():\n",
    "    cinqueScaffali = RIGHT([scaffaleBianco(),scaffaloneQuadruplo()])\n",
    "    return cinqueScaffali\n",
    "\n",
    "def cinqueScaffaliCopertoDX():\n",
    "    cinqueScaffaliCopertoDX = STRUCT([cinqueScaffali(),SWEEP([0.1,0.1,0.1])(CUBOID([0,1,5]))])\n",
    "    return cinqueScaffaliCopertoDX\n",
    "\n",
    "def cinqueScaffaliCopertoDXSX():\n",
    "    cinqueScaffaliCopertoDXSX = STRUCT([cinqueScaffaliCopertoDX(),\n",
    "                                        (T(1)(6)(SWEEP([0.1,0.1,0.1])(CUBOID([0,1,5]))))])\n",
    "    return cinqueScaffaliCopertoDXSX\n",
    "\n",
    "def cinqueScaffaliCopertoSUDXSX():\n",
    "    cinqueScaffaliCopertoSUDXSX = STRUCT([cinqueScaffaliCopertoDXSX(),\n",
    "                                          (T(3)(5)(SWEEP([0.2,0.2,0.2])(CUBOID([6,1,0]))))])\n",
    "    return cinqueScaffaliCopertoSUDXSX\n",
    "\n",
    "def cinqueScaffaliCopertoSUDXSXGIU():\n",
    "    cinqueScaffaliCopertoSUDXSXGIU = STRUCT([cinqueScaffaliCopertoSUDXSX(),\n",
    "                             ((SWEEP([0.2,0.2,0.2])(CUBOID([6,1,0]))))])\n",
    "    return cinqueScaffaliCopertoSUDXSXGIU\n",
    "\n",
    "def cinqueScaffaliCopertoSUDXSXGIU1():\n",
    "    cinqueScaffaliCopertoSUDXSXGIU1 = STRUCT([cinqueScaffaliCopertoSUDXSXGIU(),\n",
    "                             (T(3)(1)((SWEEP([0.2,0.2,0.2])(CUBOID([6,1,0])))))])\n",
    "    return cinqueScaffaliCopertoSUDXSXGIU1\n",
    "\n",
    "def cinqueScaffaliCopertoSUDXSXGIU2():\n",
    "    cinqueScaffaliCopertoSUDXSXGIU2 = STRUCT([cinqueScaffaliCopertoSUDXSXGIU1(),\n",
    "                             (T(3)(2)((SWEEP([0.2,0.2,0.2])(CUBOID([6,1,0])))))])\n",
    "    return cinqueScaffaliCopertoSUDXSXGIU2\n",
    "\n",
    "def cinqueScaffaliCopertoSUDXSXGIU3():\n",
    "    cinqueScaffaliCopertoSUDXSXGIU3 = STRUCT([cinqueScaffaliCopertoSUDXSXGIU2(),\n",
    "                             (T(3)(3)((SWEEP([0.2,0.2,0.2])(CUBOID([6,1,0])))))])\n",
    "    return cinqueScaffaliCopertoSUDXSXGIU3\n",
    "\n",
    "def cinqueScaffaliCopertoSUDXSXGIU4():\n",
    "    cinqueScaffaliCopertoSUDXSXGIU4 = STRUCT([cinqueScaffaliCopertoSUDXSXGIU3(),\n",
    "                             (T(3)(4)((SWEEP([0.2,0.2,0.2])(CUBOID([6,1,0])))))])\n",
    "    return cinqueScaffaliCopertoSUDXSXGIU4\n",
    "\n",
    "def cinqueScaffaliCopertoSUDXSXGIUX1():\n",
    "    cinqueScaffaliCopertoSUDXSXGIUX1 = STRUCT([cinqueScaffaliCopertoSUDXSXGIU4(),\n",
    "                             (T(1)(1)(SWEEP([0.1,0.1,0.1])(CUBOID([0,1,5]))))])\n",
    "    return cinqueScaffaliCopertoSUDXSXGIUX1\n",
    "\n",
    "def cinqueScaffaliCopertoSUDXSXGIUX2():\n",
    "    cinqueScaffaliCopertoSUDXSXGIUX2 = STRUCT([cinqueScaffaliCopertoSUDXSXGIUX1(),\n",
    "                             (T(1)(2)(SWEEP([0.1,0.1,0.1])((CUBOID([0,1,5])))))])\n",
    "    return cinqueScaffaliCopertoSUDXSXGIUX2\n",
    "\n",
    "def cinqueScaffaliCopertoSUDXSXGIUX3():\n",
    "    cinqueScaffaliCopertoSUDXSXGIUX3 = STRUCT([cinqueScaffaliCopertoSUDXSXGIUX2(),\n",
    "                             (T(1)(2)(SWEEP([0.1,0.1,0.1])(CUBOID([0,1,5]))))])\n",
    "    return cinqueScaffaliCopertoSUDXSXGIUX3\n",
    "\n",
    "def cinqueScaffaliCopertoSUDXSXGIUX4():\n",
    "    cinqueScaffaliCopertoSUDXSXGIUX4 = STRUCT([cinqueScaffaliCopertoSUDXSXGIUX3(),\n",
    "                             (T(1)(4)(SWEEP([0.1,0.1,0.1])(CUBOID([0,1,5]))))])\n",
    "    return cinqueScaffaliCopertoSUDXSXGIUX4\n",
    "\n",
    "def cinqueScaffaliCopertoSUDXSXGIUX5():\n",
    "    cinqueScaffaliCopertoSUDXSXGIUX5 = STRUCT([cinqueScaffaliCopertoSUDXSXGIUX4(),\n",
    "                             (T(1)(5)(SWEEP([0.1,0.1,0.1])(CUBOID([0,1,5]))))])\n",
    "    return cinqueScaffaliCopertoSUDXSXGIUX5\n"
   ]
  },
  {
   "cell_type": "code",
   "execution_count": 4,
   "metadata": {},
   "outputs": [
    {
     "data": {
      "text/plain": [
       "<pyplasm.xgepy.Hpc; proxy of <Swig Object of type 'std::shared_ptr< Hpc > *' at 0x7f317e0f6270> >"
      ]
     },
     "execution_count": 4,
     "metadata": {},
     "output_type": "execute_result"
    }
   ],
   "source": [
    "def parete():\n",
    "\n",
    "    parete = COLOR(WHITE)(CUBOID([10,0,10]))\n",
    "    return parete\n",
    "\n",
    "def scaffaleEparete():\n",
    "    sEp = STRUCT([cinqueScaffaliCopertoSUDXSXGIU4(),parete()])\n",
    "    return sEp\n",
    "\n",
    "\n",
    "VIEW(scaffaleEparete())  "
   ]
  },
  {
   "cell_type": "markdown",
   "metadata": {},
   "source": [
    "![scaffaloneEParete](scaffaloneEparete.png)"
   ]
  },
  {
   "cell_type": "markdown",
   "metadata": {},
   "source": [
    "# mobile con piedini"
   ]
  },
  {
   "cell_type": "markdown",
   "metadata": {},
   "source": [
    "![mobileConPiedini](mobileConPiedini.png)"
   ]
  },
  {
   "cell_type": "code",
   "execution_count": 6,
   "metadata": {},
   "outputs": [
    {
     "data": {
      "text/plain": [
       "<pyplasm.xgepy.Hpc; proxy of <Swig Object of type 'std::shared_ptr< Hpc > *' at 0x7f27a8783270> >"
      ]
     },
     "execution_count": 6,
     "metadata": {},
     "output_type": "execute_result"
    }
   ],
   "source": [
    "def mobiletto():\n",
    "    cubo1 = CUBOID([1,1,1])\n",
    "    cubo2 = T([1,2,3])([0.025,0.05,0.015])((CUBOID([0.95,0.95,0.95])))\n",
    "    cubo3 = DIFFERENCE([cubo1,cubo2])\n",
    "    return cubo3\n",
    "\n",
    "def mobilettoArancione():\n",
    "    return COLOR([0.700,0.546,0.455])(mobiletto())\n",
    "\n",
    "def mobilettoDoppio():\n",
    "    mobilettoDoppio = RIGHT([mobilettoArancione(),mobilettoArancione()])\n",
    "    return mobilettoDoppio\n",
    "\n",
    "def mobilettoAquattro():\n",
    "    mobilettoAquattro = TOP([mobilettoDoppio(),mobilettoDoppio()])\n",
    "    return mobilettoAquattro\n"
   ]
  },
  {
   "cell_type": "code",
   "execution_count": 7,
   "metadata": {},
   "outputs": [],
   "source": [
    "def mobilettoBianco():\n",
    "    mobilettoBianco = TOP([CUBOID([1,1,1]),CUBOID([1,1,1])])\n",
    "    return COLOR(RED)(mobilettoBianco)\n"
   ]
  },
  {
   "cell_type": "code",
   "execution_count": 8,
   "metadata": {},
   "outputs": [],
   "source": [
    "def rigaGrigiaV():\n",
    "    return CUBOID([0,1,1.8])\n",
    "\n",
    "def rigaGrigiaO():\n",
    "    return CUBOID([0.8,1])\n",
    "\n"
   ]
  },
  {
   "cell_type": "code",
   "execution_count": 12,
   "metadata": {},
   "outputs": [],
   "source": [
    "def mobileErigV():\n",
    "    return STRUCT([T([1,2,3])([0.1,0.01,0.1])(rigaGrigiaV()),(T([1,2,3])([0.9,0.01,0.1])(rigaGrigiaV())),mobilettoBianco()])\n",
    "    \n"
   ]
  },
  {
   "cell_type": "code",
   "execution_count": 13,
   "metadata": {},
   "outputs": [],
   "source": [
    "def mobilettoConRighe():\n",
    "    return STRUCT([mobileErigV(),T([1,2,3])([0.1,0.01,0.1])(rigaGrigiaO()),T([1,2,3])([0.1,0.01,1.9])(rigaGrigiaO())])\n",
    "\n"
   ]
  },
  {
   "cell_type": "code",
   "execution_count": 14,
   "metadata": {},
   "outputs": [
    {
     "data": {
      "text/plain": [
       "<pyplasm.xgepy.Hpc; proxy of <Swig Object of type 'std::shared_ptr< Hpc > *' at 0x7f27a8789180> >"
      ]
     },
     "execution_count": 14,
     "metadata": {},
     "output_type": "execute_result"
    }
   ],
   "source": [
    "def mobileEmobilettoaQuattro():\n",
    "    return LEFT([mobilettoAquattro(),mobilettoConRighe()])\n",
    "\n",
    "VIEW(mobileEmobilettoaQuattro())"
   ]
  },
  {
   "cell_type": "code",
   "execution_count": 40,
   "metadata": {},
   "outputs": [
    {
     "data": {
      "text/plain": [
       "<pyplasm.xgepy.Hpc; proxy of <Swig Object of type 'std::shared_ptr< Hpc > *' at 0x7f27a87b6630> >"
      ]
     },
     "execution_count": 40,
     "metadata": {},
     "output_type": "execute_result"
    }
   ],
   "source": [
    "def piedino():\n",
    "    return EXTRUDE([0.01,CIRCLE(0.07)([100,1]),0.06]) # COL TERZO ARGOMENTO SI APPIATTISCE\n",
    "\n",
    "VIEW(piedino())"
   ]
  },
  {
   "cell_type": "code",
   "execution_count": 78,
   "metadata": {},
   "outputs": [
    {
     "data": {
      "text/plain": [
       "<pyplasm.xgepy.Hpc; proxy of <Swig Object of type 'std::shared_ptr< Hpc > *' at 0x7f27a8728750> >"
      ]
     },
     "execution_count": 78,
     "metadata": {},
     "output_type": "execute_result"
    }
   ],
   "source": [
    "def mobileEpiedi():\n",
    "    piedinoDX1 = T([1,2])([-0.9,0.9])(piedino())\n",
    "    piedinoDX12 = T([1,2])([-0.9,0.1])(piedino())\n",
    "    piedinoSX1 = T([1,2])([-0.1,0.9])(piedino())\n",
    "    piedinoSX12 = T([1,2])([-0.1,0.1])(piedino())\n",
    "    piedinoDX2 = T([1,2])([0.1,0.9])(piedino())\n",
    "    piedinoDX21 = T([1,2])([0.1,0.1])(piedino())\n",
    "    piedinoSX2 = T([1,2])([1.9,0.9])(piedino())\n",
    "    piedinoSX21 = T([1,2])([1.9,0.1])(piedino())\n",
    "    return STRUCT([piedinoSX21,piedinoDX21,piedinoSX12,piedinoDX12,piedinoSX2,piedinoDX2,piedinoDX1,piedinoSX1,T(3)(0.05)(mobileEmobilettoaQuattro())])\n",
    "    \n",
    "VIEW(mobileEpiedi())"
   ]
  }
 ],
 "metadata": {
  "kernelspec": {
   "display_name": "Python 2",
   "language": "python",
   "name": "python2"
  },
  "language_info": {
   "codemirror_mode": {
    "name": "ipython",
    "version": 2
   },
   "file_extension": ".py",
   "mimetype": "text/x-python",
   "name": "python",
   "nbconvert_exporter": "python",
   "pygments_lexer": "ipython2",
   "version": "2.7.12"
  }
 },
 "nbformat": 4,
 "nbformat_minor": 2
}
