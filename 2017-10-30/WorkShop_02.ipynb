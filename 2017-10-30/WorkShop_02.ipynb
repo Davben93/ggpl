{
 "cells": [
  {
   "cell_type": "markdown",
   "metadata": {},
   "source": [
    "# IKEA"
   ]
  },
  {
   "cell_type": "markdown",
   "metadata": {},
   "source": [
    "# modellazione parametrica"
   ]
  },
  {
   "cell_type": "markdown",
   "metadata": {},
   "source": [
    "\n",
    "# Creazioni di alcuni mobili presi dal catalogo di IKEA"
   ]
  },
  {
   "cell_type": "code",
   "execution_count": 11,
   "metadata": {},
   "outputs": [
    {
     "name": "stdout",
     "output_type": "stream",
     "text": [
      "Evaluating fenvs.py..\n",
      "...fenvs.py imported in 0.034925 seconds\n"
     ]
    }
   ],
   "source": [
    "from larlib import *"
   ]
  },
  {
   "cell_type": "code",
   "execution_count": 13,
   "metadata": {},
   "outputs": [],
   "source": [
    "def parete():\n",
    "\n",
    "    parete = (CUBOID([10,0,10]))\n",
    "    return parete\n"
   ]
  },
  {
   "cell_type": "markdown",
   "metadata": {},
   "source": [
    "# mobile con piedini"
   ]
  },
  {
   "cell_type": "markdown",
   "metadata": {},
   "source": [
    "![mobileConPiedini](mobileConPiedini.png)"
   ]
  },
  {
   "cell_type": "code",
   "execution_count": 2,
   "metadata": {},
   "outputs": [],
   "source": [
    "def mobiletto():\n",
    "    cubo1 = CUBOID([1,1,1])\n",
    "    cubo2 = T([1,2,3])([0.025,0.05,0.015])((CUBOID([0.95,0.95,0.95])))\n",
    "    cubo3 = DIFFERENCE([cubo1,cubo2])\n",
    "    return cubo3\n",
    "\n",
    "def mobilettoArancione():\n",
    "    return COLOR([0.700,0.546,0.455])(mobiletto())\n",
    "\n",
    "def mobilettoDoppio():\n",
    "    mobilettoDoppio = RIGHT([mobilettoArancione(),mobilettoArancione()])\n",
    "    return mobilettoDoppio\n",
    "\n",
    "def mobilettoAquattro():\n",
    "    mobilettoAquattro = TOP([mobilettoDoppio(),mobilettoDoppio()])\n",
    "    return mobilettoAquattro\n"
   ]
  },
  {
   "cell_type": "code",
   "execution_count": 3,
   "metadata": {},
   "outputs": [],
   "source": [
    "def mobilettoBianco():\n",
    "    mobilettoBianco = TOP([CUBOID([1,1,1]),CUBOID([1,1,1])])\n",
    "    return COLOR(RED)(mobilettoBianco)\n"
   ]
  },
  {
   "cell_type": "code",
   "execution_count": 4,
   "metadata": {},
   "outputs": [],
   "source": [
    "def rigaGrigiaV():\n",
    "    return CUBOID([0,1,1.8])\n",
    "\n",
    "def rigaGrigiaO():\n",
    "    return CUBOID([0.8,1])\n",
    "\n"
   ]
  },
  {
   "cell_type": "code",
   "execution_count": 5,
   "metadata": {},
   "outputs": [],
   "source": [
    "def mobileErigV():\n",
    "    return STRUCT([T([1,2,3])([0.1,0.01,0.1])(rigaGrigiaV()),(T([1,2,3])([0.9,0.01,0.1])(rigaGrigiaV())),mobilettoBianco()])\n",
    "    \n"
   ]
  },
  {
   "cell_type": "code",
   "execution_count": 6,
   "metadata": {},
   "outputs": [],
   "source": [
    "def mobilettoConRighe():\n",
    "    return STRUCT([mobileErigV(),T([1,2,3])([0.1,0.01,0.1])(rigaGrigiaO()),T([1,2,3])([0.1,0.01,1.9])(rigaGrigiaO())])\n",
    "\n"
   ]
  },
  {
   "cell_type": "code",
   "execution_count": 7,
   "metadata": {},
   "outputs": [],
   "source": [
    "def mobileEmobilettoaQuattro():\n",
    "    return LEFT([mobilettoAquattro(),mobilettoConRighe()])\n",
    "\n"
   ]
  },
  {
   "cell_type": "code",
   "execution_count": 8,
   "metadata": {},
   "outputs": [],
   "source": [
    "def piedino():\n",
    "    return EXTRUDE([0.01,CIRCLE(0.07)([100,1]),0.06]) # COL TERZO ARGOMENTO SI APPIATTISCE\n",
    "\n"
   ]
  },
  {
   "cell_type": "code",
   "execution_count": 9,
   "metadata": {},
   "outputs": [],
   "source": [
    "def mobileEpiedi():\n",
    "    piedinoDX1 = T([1,2])([-0.9,0.9])(piedino())\n",
    "    piedinoDX12 = T([1,2])([-0.9,0.1])(piedino())\n",
    "    piedinoSX1 = T([1,2])([-0.1,0.9])(piedino())\n",
    "    piedinoSX12 = T([1,2])([-0.1,0.1])(piedino())\n",
    "    piedinoDX2 = T([1,2])([0.1,0.9])(piedino())\n",
    "    piedinoDX21 = T([1,2])([0.1,0.1])(piedino())\n",
    "    piedinoSX2 = T([1,2])([1.9,0.9])(piedino())\n",
    "    piedinoSX21 = T([1,2])([1.9,0.1])(piedino())\n",
    "    return STRUCT([piedinoSX21,piedinoDX21,piedinoSX12,piedinoDX12,piedinoSX2,piedinoDX2,piedinoDX1,piedinoSX1,T(3)(0.05)(mobileEmobilettoaQuattro())])\n",
    "    \n"
   ]
  },
  {
   "cell_type": "code",
   "execution_count": 15,
   "metadata": {},
   "outputs": [
    {
     "data": {
      "text/plain": [
       "<pyplasm.xgepy.Hpc; proxy of <Swig Object of type 'std::shared_ptr< Hpc > *' at 0x7f9016d28e70> >"
      ]
     },
     "execution_count": 15,
     "metadata": {},
     "output_type": "execute_result"
    }
   ],
   "source": [
    "def mobileEParete():\n",
    "    return STRUCT([T(1)(8)(mobileEpiedi()),parete()])\n",
    "    \n",
    "VIEW(mobileEParete())"
   ]
  },
  {
   "cell_type": "markdown",
   "metadata": {},
   "source": [
    "![scaffaloneEmobile](mobileEParete.png)"
   ]
  },
  {
   "cell_type": "code",
   "execution_count": 16,
   "metadata": {},
   "outputs": [
    {
     "data": {
      "text/plain": [
       "<pyplasm.xgepy.Hpc; proxy of <Swig Object of type 'std::shared_ptr< Hpc > *' at 0x7f9015af4c30> >"
      ]
     },
     "execution_count": 16,
     "metadata": {},
     "output_type": "execute_result"
    }
   ],
   "source": [
    "scaffali = [.1,-1]*6\n",
    "piani1 = PROD([QUOTE([3]),QUOTE(scaffali)])\n",
    "piani = PROD([QUOTE([5]),piani1])\n",
    "#colonne = INSR((PROD)((AA)((QUOTE)([[3],[.2,1,.2],[6.6]]))))\n",
    "pilastri = [.1,-4.9]*2 \n",
    "colonne = EXTRUDE([0,PROD([QUOTE(pilastri),QUOTE([3])]),5.6])\n",
    "mobileScaff = COLOR(BROWN)(STRUCT([piani,colonne]))\n",
    "\n",
    "VIEW(mobileScaff)"
   ]
  },
  {
   "cell_type": "markdown",
   "metadata": {},
   "source": [
    "![scaffale](scaffale.png)"
   ]
  },
  {
   "cell_type": "code",
   "execution_count": 17,
   "metadata": {},
   "outputs": [
    {
     "data": {
      "text/plain": [
       "[0.1, -1, 0.1, -1, 0.1, -1, 0.1, -1, 0.1, -1, 0.1, -1]"
      ]
     },
     "execution_count": 17,
     "metadata": {},
     "output_type": "execute_result"
    }
   ],
   "source": [
    "scaffali"
   ]
  },
  {
   "cell_type": "code",
   "execution_count": 18,
   "metadata": {},
   "outputs": [
    {
     "data": {
      "text/plain": [
       "<pyplasm.xgepy.Hpc; proxy of <Swig Object of type 'std::shared_ptr< Hpc > *' at 0x7f9015b08210> >"
      ]
     },
     "execution_count": 18,
     "metadata": {},
     "output_type": "execute_result"
    }
   ],
   "source": [
    "def rect1():\n",
    "    return T([2,3])([0.25,0.1])(CUBOID([0,1.5,1]));\n",
    "\n",
    "def rect2():\n",
    "    return T([2])(0.9)(CUBOID([0,0.2,0.1]));\n",
    "\n",
    "def rect3():\n",
    "    return T([1,2])([-0.25,0.7])(CUBOID([0.4,0.6,0]))\n",
    "\n",
    "def tv():\n",
    "    return(COLOR(BLACK)(STRUCT([rect1(),rect2(),rect3()])));\n",
    "\n",
    "VIEW(tv())"
   ]
  },
  {
   "cell_type": "markdown",
   "metadata": {},
   "source": [
    "![tv](tv.png)"
   ]
  },
  {
   "cell_type": "code",
   "execution_count": 22,
   "metadata": {},
   "outputs": [],
   "source": [
    "def mobilettoETv():\n",
    "    return STRUCT([T([1,2,3])([5.5,2,5.65])(S([1,2,3])([3,3,3])(R([1,2])(PI/2)(tv()))),mobileScaff])"
   ]
  },
  {
   "cell_type": "code",
   "execution_count": 23,
   "metadata": {},
   "outputs": [
    {
     "data": {
      "text/plain": [
       "<pyplasm.xgepy.Hpc; proxy of <Swig Object of type 'std::shared_ptr< Hpc > *' at 0x7f9015af48d0> >"
      ]
     },
     "execution_count": 23,
     "metadata": {},
     "output_type": "execute_result"
    }
   ],
   "source": [
    "VIEW(mobilettoETv())"
   ]
  },
  {
   "cell_type": "code",
   "execution_count": 24,
   "metadata": {},
   "outputs": [],
   "source": [
    "def cameretta():\n",
    "    return STRUCT([mobileEParete(),mobilettoETv()])"
   ]
  },
  {
   "cell_type": "code",
   "execution_count": 25,
   "metadata": {},
   "outputs": [
    {
     "data": {
      "text/plain": [
       "<pyplasm.xgepy.Hpc; proxy of <Swig Object of type 'std::shared_ptr< Hpc > *' at 0x7f9015b086c0> >"
      ]
     },
     "execution_count": 25,
     "metadata": {},
     "output_type": "execute_result"
    }
   ],
   "source": [
    "VIEW(cameretta())"
   ]
  },
  {
   "cell_type": "markdown",
   "metadata": {},
   "source": [
    "![cameretta](cameretta.png)"
   ]
  },
  {
   "cell_type": "code",
   "execution_count": null,
   "metadata": {},
   "outputs": [],
   "source": []
  }
 ],
 "metadata": {
  "kernelspec": {
   "display_name": "Python 2",
   "language": "python",
   "name": "python2"
  },
  "language_info": {
   "codemirror_mode": {
    "name": "ipython",
    "version": 2
   },
   "file_extension": ".py",
   "mimetype": "text/x-python",
   "name": "python",
   "nbconvert_exporter": "python",
   "pygments_lexer": "ipython2",
   "version": "2.7.12"
  }
 },
 "nbformat": 4,
 "nbformat_minor": 2
}
