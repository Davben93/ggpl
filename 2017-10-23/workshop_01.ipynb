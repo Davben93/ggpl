{
 "cells": [
  {
   "cell_type": "markdown",
   "metadata": {},
   "source": [
    "# Convert some Classic PLASM scripts from Chapter 1 and/or Chapter 2 of\n",
    " # book Geometric Programming for Computer-Aided Design (GP4CAD)\n",
    "# Free choice of number and type of scripts to Convert"
   ]
  },
  {
   "cell_type": "code",
   "execution_count": 1,
   "metadata": {},
   "outputs": [
    {
     "name": "stdout",
     "output_type": "stream",
     "text": [
      "Evaluating fenvs.py..\n",
      "...fenvs.py imported in 0.018698 seconds\n"
     ]
    }
   ],
   "source": [
    "from pyplasm import *"
   ]
  },
  {
   "cell_type": "code",
   "execution_count": 3,
   "metadata": {},
   "outputs": [
    {
     "name": "stdout",
     "output_type": "stream",
     "text": [
      "Evaluating fenvs.py..\n",
      "...fenvs.py imported in 0.026324 seconds\n"
     ]
    }
   ],
   "source": [
    "from larlib import *"
   ]
  },
  {
   "cell_type": "markdown",
   "metadata": {},
   "source": [
    "# esempio1"
   ]
  },
  {
   "cell_type": "raw",
   "metadata": {},
   "source": [
    "# Global function Plasm\n",
    "\n",
    "DEF global (p1::IsType1; p2::IsType2) (q1,q2::IsType3) = Body\n",
    "    WHERE\n",
    "    local1 = body1,\n",
    "    local2 = body2\n",
    "    WHERE local21 = body21 \n",
    "    END\n",
    "END;"
   ]
  },
  {
   "cell_type": "code",
   "execution_count": 79,
   "metadata": {},
   "outputs": [],
   "source": [
    "#codice python\n",
    "def global1(p1,p2):\n",
    "    def global2(q1,q2):\n",
    "        return body;\n",
    "    return global2;\n"
   ]
  },
  {
   "cell_type": "markdown",
   "metadata": {},
   "source": [
    "# esempio 2"
   ]
  },
  {
   "cell_type": "markdown",
   "metadata": {},
   "source": [
    "codice Plasm\n",
    "\n",
    "IsInt:1000 ≡ True"
   ]
  },
  {
   "cell_type": "code",
   "execution_count": 80,
   "metadata": {},
   "outputs": [
    {
     "data": {
      "text/plain": [
       "True"
      ]
     },
     "execution_count": 80,
     "metadata": {},
     "output_type": "execute_result"
    }
   ],
   "source": [
    "#codice python\n",
    "\n",
    "isinstance(100,int)==True #l output deve essere True"
   ]
  },
  {
   "cell_type": "markdown",
   "metadata": {},
   "source": [
    "# esempio 3"
   ]
  },
  {
   "cell_type": "markdown",
   "metadata": {},
   "source": [
    "codice Plasm\n",
    "\n",
    "IsString: 'Davide' ≡ True"
   ]
  },
  {
   "cell_type": "code",
   "execution_count": 81,
   "metadata": {},
   "outputs": [
    {
     "data": {
      "text/plain": [
       "True"
      ]
     },
     "execution_count": 81,
     "metadata": {},
     "output_type": "execute_result"
    }
   ],
   "source": [
    "#codice Python\n",
    "isinstance('Davide',basestring)==True"
   ]
  },
  {
   "cell_type": "markdown",
   "metadata": {},
   "source": [
    "# esempio 3"
   ]
  },
  {
   "cell_type": "markdown",
   "metadata": {},
   "source": [
    "codice plasm\n",
    "\n",
    "AND:<True,False>≡False "
   ]
  },
  {
   "cell_type": "code",
   "execution_count": 82,
   "metadata": {
    "scrolled": true
   },
   "outputs": [
    {
     "data": {
      "text/plain": [
       "True"
      ]
     },
     "execution_count": 82,
     "metadata": {},
     "output_type": "execute_result"
    }
   ],
   "source": [
    "AND([True,False])==False #deve restituire True"
   ]
  },
  {
   "cell_type": "markdown",
   "metadata": {},
   "source": [
    "# esempio 4 (una forma ad L)"
   ]
  },
  {
   "cell_type": "raw",
   "metadata": {},
   "source": [
    "#codice Plasm\n",
    "\n",
    "DEF L_shape1 = MKPOL:< verts, cells, pols >\n",
    "       WHERE\n",
    "        verts = <<0,0>,<2,0>,<2,1>,<1,1>,<1,2>,<0,2>>,\n",
    "        cells = <<1,2,3,4>,<4,5,6,1>>,\n",
    "        pols = <<1>,<2>>\n",
    "END;\n",
    "\n",
    "DEF L shape2 = MKPOL:< verts, cells, pols >\n",
    "        WHERE\n",
    "        verts = <<0,0>,<2,0>,<2,1>,<1,1>,<1,2>,<0,2>>,\n",
    "        cells = <<1,2,3,4>,<4,5,6,1>>,\n",
    "        pols = <<1,2>>\n",
    "END;"
   ]
  },
  {
   "cell_type": "code",
   "execution_count": 83,
   "metadata": {},
   "outputs": [],
   "source": [
    "#codice Python\n",
    "\n",
    "def l_Shape() :\n",
    "    verts=[[0,0],[2,0],[2,1],[1,1],[1,2],[0,2]]\n",
    "    cells=[[1,2,3,4],[4,5,6,1]]\n",
    "    pols=[[1],[2]]\n",
    "    return MKPOL([verts,cells,pols]);\n",
    "    \n"
   ]
  },
  {
   "cell_type": "code",
   "execution_count": 84,
   "metadata": {},
   "outputs": [
    {
     "data": {
      "text/plain": [
       "<pyplasm.xgepy.Hpc; proxy of <Swig Object of type 'std::shared_ptr< Hpc > *' at 0x7f8880f43e10> >"
      ]
     },
     "execution_count": 84,
     "metadata": {},
     "output_type": "execute_result"
    }
   ],
   "source": [
    "VIEW(l_Shape())"
   ]
  },
  {
   "cell_type": "markdown",
   "metadata": {},
   "source": [
    "![LSHAPE](img1.png)"
   ]
  },
  {
   "cell_type": "markdown",
   "metadata": {},
   "source": [
    "# esempio 5 (tavolo1)"
   ]
  },
  {
   "cell_type": "raw",
   "metadata": {},
   "source": [
    "codice Plasm\n",
    "\n",
    "Table model\n",
    "DEF Leg = CUBOID:< 0.1,0.1,0.7 >;\n",
    "\n",
    "DEF Plane = CUBOID:< 1, 1, 0.2>;\n",
    "\n",
    "DEF Table1 = STRUCT:<Leg, T:1:0.9:Leg, T:<1,2>:<0.9,0.9>:Leg, T:2:0.9:Leg,T:3:0.7:Plane >;\n"
   ]
  },
  {
   "cell_type": "code",
   "execution_count": 85,
   "metadata": {},
   "outputs": [],
   "source": [
    "#codice Python\n",
    "def leg():\n",
    "    return CUBOID([0.1,0.1,0.7]);\n",
    "\n",
    "def plane():\n",
    "    return CUBOID([1,1,0.2]);\n",
    "\n",
    "def table1():\n",
    "    table = STRUCT([leg(),T(1)(0.9)(leg()),T([1,2])([0.9,0.9])(leg()),T(2)(0.9)(leg()),T(3)([0.7])(plane())])\n",
    "    return table;"
   ]
  },
  {
   "cell_type": "code",
   "execution_count": 86,
   "metadata": {},
   "outputs": [
    {
     "data": {
      "text/plain": [
       "<pyplasm.xgepy.Hpc; proxy of <Swig Object of type 'std::shared_ptr< Hpc > *' at 0x7f8880f438a0> >"
      ]
     },
     "execution_count": 86,
     "metadata": {},
     "output_type": "execute_result"
    }
   ],
   "source": [
    "VIEW(table1())"
   ]
  },
  {
   "cell_type": "markdown",
   "metadata": {},
   "source": [
    "![Tavolo](tavolo1.png)"
   ]
  },
  {
   "cell_type": "markdown",
   "metadata": {},
   "source": [
    "# esempio 6 (facciata del palazzo)"
   ]
  },
  {
   "cell_type": "raw",
   "metadata": {},
   "source": [
    "Script 1.5.6 (Building facade)\n",
    "\n",
    "DEF facade (n,m::IsIntPos) = STRUCT:<Q:xRithm * Q:yRithm,Q:xVoid * Q:yRithm,Q:xRithm * Q:yVoid ,@1:(Q:xVoid * Q:yVoid) >\n",
    "WHERE\n",
    "    xRithm = ##:n:<5,-2,-5,-2> AR 5,\n",
    "    yRithm = ##:m:<7,-5,-2> AR 7,\n",
    "    xVoid = AA:-:xRithm,\n",
    "    yVoid = AA:-:yRithm\n",
    "   ,SKEL_1(PROD([QUOTE(xVoid),QUOTE(yVoid)])),PROD([QUOTE(xRithm),QUOTE(yVoid)]),PROD([QUOTE(xVoid),QUOTE(yRithm)])\n",
    "END;"
   ]
  },
  {
   "cell_type": "code",
   "execution_count": 87,
   "metadata": {},
   "outputs": [],
   "source": [
    "def facade(n,m):\n",
    "    xRithm = n*([5,-2,-5,-2])\n",
    "    xRithm.append(5)\n",
    "    yRithm = m*([7,-5,-2])\n",
    "    yRithm.append(7)\n",
    "    xVoid = [-x for x in xRithm]\n",
    "    yVoid = [-x for x in yRithm]    \n",
    "    prodotto1=PROD([QUOTE(xRithm),QUOTE(yRithm)])\n",
    "    prodotto2=PROD([QUOTE(xVoid),QUOTE(yRithm)])\n",
    "    prodotto3=PROD([QUOTE(xRithm),QUOTE(yVoid)])\n",
    "    prodotto4=SKEL_1(PROD([QUOTE(xVoid),QUOTE(yVoid)]))\n",
    "    return STRUCT([prodotto1,prodotto2,prodotto3,prodotto4]);"
   ]
  },
  {
   "cell_type": "code",
   "execution_count": 88,
   "metadata": {},
   "outputs": [
    {
     "data": {
      "text/plain": [
       "<pyplasm.xgepy.Hpc; proxy of <Swig Object of type 'std::shared_ptr< Hpc > *' at 0x7f8880f43480> >"
      ]
     },
     "execution_count": 88,
     "metadata": {},
     "output_type": "execute_result"
    }
   ],
   "source": [
    "VIEW(facade(4,3))"
   ]
  },
  {
   "cell_type": "markdown",
   "metadata": {},
   "source": [
    "![facciata_palazzo](facciataPalazzo.png)"
   ]
  },
  {
   "cell_type": "markdown",
   "metadata": {},
   "source": [
    "# esempio 7 (Tavolo con sedie disposte)"
   ]
  },
  {
   "cell_type": "raw",
   "metadata": {},
   "source": [
    "#codice plasm\n",
    "\n",
    "Script 1.5.10 (Table model (2))\n",
    "\n",
    "DEF legs = Q:< 0.1,-0.8,0.1 > * Q:< 0.1,-0.8,0.1 > * Q:0.7;\n",
    "\n",
    "DEF plane = Q:1 * Q:1 * Q:0.2;\n",
    "\n",
    "DEF table = Legs TOP Plane;\n",
    "\n",
    "DEF chair = S:<1,2,3>:<0.4,0.4,0.5>:Table;\n",
    "\n",
    "DEF assembly = chair RIGHT table RIGHT chair UP chair DOWN chair\n",
    "\n",
    "VRML:assembly: 'out.wrl'"
   ]
  },
  {
   "cell_type": "code",
   "execution_count": 89,
   "metadata": {},
   "outputs": [],
   "source": [
    "# codice python\n",
    "\n",
    "def legs() :\n",
    "    base_delle_4_gambe = PROD([QUOTE([0.1,-0.8,0.1]),QUOTE([0.1,-0.8,0.1])]) #2 prodotti cartesiani\n",
    "    gambe_con_la_3_dimensione = PROD([base_delle_4_gambe,QUOTE([0.7])])   #3 prodotti cartesiani\n",
    "    \n",
    "    return gambe_con_la_3_dimensione;\n",
    "\n"
   ]
  },
  {
   "cell_type": "code",
   "execution_count": 44,
   "metadata": {},
   "outputs": [],
   "source": [
    "# codice python\n",
    "\n",
    "\n",
    "\n",
    "def plane() :\n",
    "    piano_2D = PROD([QUOTE([1]),QUOTE([1])])\n",
    "    piano_3D = PROD([piano_2D,QUOTE([0.2])])\n",
    "    \n",
    "    return piano_3D;\n",
    "\n"
   ]
  },
  {
   "cell_type": "code",
   "execution_count": 91,
   "metadata": {},
   "outputs": [],
   "source": [
    "def table() :\n",
    "    return TOP([legs(),plane()]);\n",
    "\n"
   ]
  },
  {
   "cell_type": "code",
   "execution_count": 92,
   "metadata": {},
   "outputs": [],
   "source": [
    "def chair():\n",
    "    chair = S([1,2,3])([0.4,0.4,0.5])(table())\n",
    "    return chair;\n",
    "\n"
   ]
  },
  {
   "cell_type": "code",
   "execution_count": 94,
   "metadata": {},
   "outputs": [
    {
     "data": {
      "text/plain": [
       "<pyplasm.xgepy.Hpc; proxy of <Swig Object of type 'std::shared_ptr< Hpc > *' at 0x7f8880f434b0> >"
      ]
     },
     "execution_count": 94,
     "metadata": {},
     "output_type": "execute_result"
    }
   ],
   "source": [
    "# assembly = chair RIGHT table RIGHT chair UP chair DOWN chair\n",
    "def assembly():\n",
    "    sedia_tavoloDX = RIGHT([table(),T(2)(0.3)(chair())]) # con T vado a centrare la sedia nel tavolo a destra\n",
    "    aggiungi_sediaDX = RIGHT([T(2)(0.3)(chair()),sedia_tavoloDX])#con T vado a centrare la sedia nel tavolo a destra\n",
    "    aggiungi_sediaUP = UP([aggiungi_sediaDX,T(1)(0.7)(chair())])#con T vado a centrare la sedia nel tavolo in alto\n",
    "    aggiungi_sediaDW = DOWN([aggiungi_sediaUP,T(1)(0.7)(chair())])#con T vado a centrare la sedia nel tavolo in basso\n",
    "    assembly = aggiungi_sediaDW\n",
    "    return assembly;\n",
    "VIEW(assembly())\n"
   ]
  },
  {
   "cell_type": "markdown",
   "metadata": {},
   "source": [
    "![tavolo e 4 sedie](assembly.png)"
   ]
  },
  {
   "cell_type": "markdown",
   "metadata": {},
   "source": [
    "# esempio 8\n"
   ]
  },
  {
   "cell_type": "raw",
   "metadata": {},
   "source": [
    "Codice Plasm\n",
    "\n",
    "Script 1.6.3 (Assembly of colored cubes)\n",
    "\n",
    "DEF cube = CUBOID:<1,1,1>;\n",
    "DEF cube1 = cube COLOR CYAN;\n",
    "DEF cube2 = cube COLOR MAGENTA;\n",
    "DEF cube3 = cube COLOR YELLOW;\n",
    "DEF basis = (EMBED:1 ∼ CUBOID):<3,3>;\n",
    "DEF assembly = cube1 TOP cube2 TOP cube3;\n",
    "DEF out = basis TOP assembly;"
   ]
  },
  {
   "cell_type": "code",
   "execution_count": 2,
   "metadata": {},
   "outputs": [
    {
     "data": {
      "text/plain": [
       "<pyplasm.xgepy.Hpc; proxy of <Swig Object of type 'std::shared_ptr< Hpc > *' at 0x7fc2e48e40c0> >"
      ]
     },
     "execution_count": 2,
     "metadata": {},
     "output_type": "execute_result"
    }
   ],
   "source": [
    "#codice python\n",
    "\n",
    "def cube():\n",
    "    return CUBOID([1,1,1]);\n",
    "\n",
    "def cube1():\n",
    "    return COLOR(CYAN)(cube());\n",
    "\n",
    "def cube2():\n",
    "    return COLOR(MAGENTA)(cube())\n",
    "\n",
    "def cube3():\n",
    "    return COLOR(YELLOW)(cube())\n",
    "\n",
    "def basis():\n",
    "    return COMP([EMBED(1),CUBOID])([3,3])\n",
    "    \n",
    "#DEF assembly = cube1 TOP cube2 TOP cube3;\n",
    "def assembly():\n",
    "    ass1 = TOP([cube1(),cube2()])\n",
    "    ass2 = TOP([ass1,cube3()])\n",
    "    return ass2\n",
    "\n",
    "#DEF out = basis TOP assembly;\n",
    "\n",
    "def out():\n",
    "    out = TOP([basis(),assembly()])\n",
    "    return out\n",
    "\n",
    "\n",
    "VIEW(out())"
   ]
  },
  {
   "cell_type": "markdown",
   "metadata": {},
   "source": [
    "![coloriCubi](coloriCubi.png)"
   ]
  },
  {
   "cell_type": "raw",
   "metadata": {},
   "source": [
    "CODICE PLASM\n",
    "\n",
    "DEF out = basis TOP ((SWEEP:< 0.2, 0.2, 0.2 > ∼ @1):assembly COLOR RED);"
   ]
  },
  {
   "cell_type": "code",
   "execution_count": 29,
   "metadata": {},
   "outputs": [
    {
     "data": {
      "text/plain": [
       "<pyplasm.xgepy.Hpc; proxy of <Swig Object of type 'std::shared_ptr< Hpc > *' at 0x7fc2e2bf33c0> >"
      ]
     },
     "execution_count": 29,
     "metadata": {},
     "output_type": "execute_result"
    }
   ],
   "source": [
    "#CODICE Python\n",
    "\n",
    "def out2():\n",
    "    assemblySK = SKEL_1(assembly())\n",
    "    assembly2 = COLOR(RED)(SWEEP([0.2,0.2,0.2])(assemblySK))\n",
    "    out2 = TOP([basis(),assembly2])\n",
    "    return out2\n",
    "\n",
    "VIEW(out2())"
   ]
  },
  {
   "cell_type": "markdown",
   "metadata": {},
   "source": [
    "![palazzoSKcol1](palazzoSKcol1)"
   ]
  },
  {
   "cell_type": "raw",
   "metadata": {},
   "source": [
    "codice PLASM\n",
    "DEF out = basis TOP\n",
    "((STRUCT ∼ [ID, OFFSET:< 0.1, 0.1, 0.1 > ∼ @1]):assembly COLOR RED);"
   ]
  },
  {
   "cell_type": "code",
   "execution_count": 33,
   "metadata": {},
   "outputs": [
    {
     "data": {
      "text/plain": [
       "<pyplasm.xgepy.Hpc; proxy of <Swig Object of type 'std::shared_ptr< Hpc > *' at 0x7fc2e2bf3a80> >"
      ]
     },
     "execution_count": 33,
     "metadata": {},
     "output_type": "execute_result"
    }
   ],
   "source": [
    "#codice PYTHON\n",
    "\n",
    "def out3():\n",
    "    out3 = STRUCT([out2(),T([1,2])([1,1])(assembly())])\n",
    "    return out3\n",
    "\n",
    "VIEW(out3())"
   ]
  },
  {
   "cell_type": "markdown",
   "metadata": {},
   "source": [
    "![palazzoSKcol2](palazzoSKcol2.png)"
   ]
  },
  {
   "cell_type": "markdown",
   "metadata": {},
   "source": [
    "# esempio 9"
   ]
  },
  {
   "cell_type": "raw",
   "metadata": {},
   "source": [
    "codice Plasm\n",
    "\n",
    "DEF Hypercube = CUBOID:<1,1,1,1>;"
   ]
  },
  {
   "cell_type": "code",
   "execution_count": 11,
   "metadata": {},
   "outputs": [
    {
     "data": {
      "text/plain": [
       "<pyplasm.xgepy.Hpc; proxy of <Swig Object of type 'std::shared_ptr< Hpc > *' at 0x7fa9085b4690> >"
      ]
     },
     "execution_count": 11,
     "metadata": {},
     "output_type": "execute_result"
    }
   ],
   "source": [
    "# codice python\n",
    "#un cubo 4d in uno spazio 3d\n",
    "def hypercube():\n",
    "    return CUBOID([1,1,1,1]);\n",
    "\n",
    "VIEW(hypercube())"
   ]
  },
  {
   "cell_type": "markdown",
   "metadata": {},
   "source": [
    "# ESEMPIO 10"
   ]
  },
  {
   "cell_type": "raw",
   "metadata": {},
   "source": [
    "# codice Plasm\n",
    "\n",
    "vari cilindri con differente raggio, dimensioni e facciate\n",
    "\n",
    "STRUCT:<\n",
    "CYLINDER:<1, 1>:4, T:1:2.5,\n",
    "CYLINDER:<1, 2>:8, T:1:3.5,\n",
    "CYLINDER:<1.5, 3>:16, T:1:4.5,\n",
    "CYLINDER:<1.5, 4>:24\n",
    ">;"
   ]
  },
  {
   "cell_type": "code",
   "execution_count": 29,
   "metadata": {},
   "outputs": [
    {
     "data": {
      "text/plain": [
       "<pyplasm.xgepy.Hpc; proxy of <Swig Object of type 'std::shared_ptr< Hpc > *' at 0x7f7cc829d120> >"
      ]
     },
     "execution_count": 29,
     "metadata": {},
     "output_type": "execute_result"
    }
   ],
   "source": [
    "#codice python\n",
    "\n",
    "cilindro_1 = T(1)(5)(CYLINDER([1,1])(4)) # 4 facciate (un Cubo)\n",
    "cilindro_2 = T(1)(10)(CYLINDER([1,2])(8)) # 8 facciate (un cilindro)\n",
    "cilindro_3 = T(1)(15)(CYLINDER([1.5,3])(16)) # 16 facciate\n",
    "cilindro_4 = T(1)(20)(CYLINDER([1.5,4])(24)) # 24 facciate\n",
    "\n",
    "VIEW(STRUCT([cilindro_1,cilindro_2,cilindro_3,cilindro_4]))"
   ]
  },
  {
   "cell_type": "markdown",
   "metadata": {},
   "source": [
    "![cilindri](cilindri.png)"
   ]
  },
  {
   "cell_type": "markdown",
   "metadata": {},
   "source": [
    "# ESEMPIO 11"
   ]
  },
  {
   "cell_type": "raw",
   "metadata": {},
   "source": [
    "codice Plasm\n",
    "\n",
    "(Polyhedral complexes)\n",
    "\n",
    "Script 2.2.3\n",
    "DEF verts =\n",
    "<<0,0,0>,<1,0,0>,<0,1,0>,<1,1,0>,<0,0,1>,<1,0,1>, <0,1,1>,<1,1,1>>;\n",
    "DEF pol 1D = MKPOL:< verts, cells, pols > STRUCT MKframe\n",
    "WHERE\n",
    "cells = <<1,4>,<2,4>,<4,8>>,\n",
    "pols = <<1,2,3>>\n",
    "END;\n",
    "DEF pol 2D = MKPOL:<verts, <<1,2,3,4>,<2,4,8>>, <<1>,<2>>> STRUCT MKframe\n",
    "DEF pol 3D = MKPOL:<verts, <<1,2,3,5>,<2,3,4,8>>, <<1,2>>> STRUCT MKframe\n",
    "DEF mixed D = MKPOL:<verts, <<1,2,3,5>,<2,3,4>,<4,8>>, <<1,2,3>> >\n",
    "STRUCT MKframe\n"
   ]
  },
  {
   "cell_type": "code",
   "execution_count": 9,
   "metadata": {},
   "outputs": [
    {
     "data": {
      "text/plain": [
       "<pyplasm.xgepy.Hpc; proxy of <Swig Object of type 'std::shared_ptr< Hpc > *' at 0x7f6b03b96300> >"
      ]
     },
     "execution_count": 9,
     "metadata": {},
     "output_type": "execute_result"
    }
   ],
   "source": [
    "# codice Python\n",
    "\n",
    "def verts():\n",
    "    verts = [[0,0,0],[1,0,0],[0,1,0],[1,1,0],[0,0,1],[1,0,1],[0,1,1],[1,1,1]]\n",
    "    return verts;\n"
   ]
  },
  {
   "cell_type": "code",
   "execution_count": 15,
   "metadata": {},
   "outputs": [
    {
     "data": {
      "text/plain": [
       "<pyplasm.xgepy.Hpc; proxy of <Swig Object of type 'std::shared_ptr< Hpc > *' at 0x7f6b03bd05a0> >"
      ]
     },
     "execution_count": 15,
     "metadata": {},
     "output_type": "execute_result"
    }
   ],
   "source": [
    "def pol_1D():\n",
    "    cells = [[1,4],[2,4],[4,8]]\n",
    "    pols = [[1,2,3]]\n",
    "    pol_1D = MKPOL([verts(),cells,pols])\n",
    "    return pol_1D\n",
    "\n",
    "VIEW(pol_1D())"
   ]
  },
  {
   "cell_type": "markdown",
   "metadata": {},
   "source": [
    "![pol1D](pol1D.png)"
   ]
  },
  {
   "cell_type": "code",
   "execution_count": 17,
   "metadata": {},
   "outputs": [
    {
     "data": {
      "text/plain": [
       "<pyplasm.xgepy.Hpc; proxy of <Swig Object of type 'std::shared_ptr< Hpc > *' at 0x7f6b02b4e4b0> >"
      ]
     },
     "execution_count": 17,
     "metadata": {},
     "output_type": "execute_result"
    }
   ],
   "source": [
    "# DEF pol 2D = MKPOL:<verts, <<1,2,3,4>,<2,4,8>>, <<1>,<2>>>\n",
    "\n",
    "def pol_2D():\n",
    "    pol2D = MKPOL([verts(),[[1,2,3,4],[2,4,8]],[[1],[2]]])\n",
    "    return pol2D;\n",
    "\n",
    "VIEW(pol_2D())"
   ]
  },
  {
   "cell_type": "markdown",
   "metadata": {},
   "source": [
    "![pol2D](pol2D.png)"
   ]
  },
  {
   "cell_type": "code",
   "execution_count": 18,
   "metadata": {},
   "outputs": [
    {
     "data": {
      "text/plain": [
       "<pyplasm.xgepy.Hpc; proxy of <Swig Object of type 'std::shared_ptr< Hpc > *' at 0x7f6b02b4e5a0> >"
      ]
     },
     "execution_count": 18,
     "metadata": {},
     "output_type": "execute_result"
    }
   ],
   "source": [
    "#DEF pol 3D = MKPOL:<verts, <<1,2,3,5>,<2,3,4,8>>, <<1,2>>>\n",
    "\n",
    "def pol_3D():\n",
    "    pol_3D = MKPOL([verts(),[[1,2,3,5],[2,3,4,8]],[1,2]])\n",
    "    return pol_3D;\n",
    "\n",
    "VIEW(pol_3D())"
   ]
  },
  {
   "cell_type": "markdown",
   "metadata": {},
   "source": [
    "![pol3D](pol3D.png)"
   ]
  },
  {
   "cell_type": "code",
   "execution_count": 19,
   "metadata": {},
   "outputs": [
    {
     "data": {
      "text/plain": [
       "<pyplasm.xgepy.Hpc; proxy of <Swig Object of type 'std::shared_ptr< Hpc > *' at 0x7f6b02b4e210> >"
      ]
     },
     "execution_count": 19,
     "metadata": {},
     "output_type": "execute_result"
    }
   ],
   "source": [
    "#DEF mixed D = MKPOL:<verts, <<1,2,3,5>,<2,3,4>,<4,8>>, <<1,2,3>> >\n",
    "\n",
    "def mixed_D():\n",
    "    mixed_D = MKPOL([verts(),[[1,2,3,5],[2,3,4],[4,8]],[1,2,3]])\n",
    "    return mixed_D;\n",
    "\n",
    "VIEW(mixed_D())"
   ]
  },
  {
   "cell_type": "markdown",
   "metadata": {},
   "source": [
    "![polmD](polmD.png)"
   ]
  },
  {
   "cell_type": "markdown",
   "metadata": {},
   "source": [
    "# esempio 12"
   ]
  },
  {
   "cell_type": "code",
   "execution_count": null,
   "metadata": {},
   "outputs": [],
   "source": [
    "codice PLASM\n",
    "\n",
    "DEF plan2D = Q:Xdims * Q:Ydims;\n",
    "DEF building1 = Extrude:<10,plan2D, 12>;\n",
    "DEF building2 = Extrude:<25,plan2D, 20>;\n",
    "    \n",
    "STRUCT:< EMBED:1:plan2D, building1, building2 >;"
   ]
  },
  {
   "cell_type": "code",
   "execution_count": 45,
   "metadata": {},
   "outputs": [],
   "source": [
    "#codice python\n",
    "\n",
    "xDims = [2,-2,3,-2,4,-2,5,-2,6,-2,7,-2,8,-2,9,-2,10,-2]\n",
    "yDims = [3,-2,4,-2,5,-2,6,-2,7,-2,8,-2]"
   ]
  },
  {
   "cell_type": "code",
   "execution_count": 48,
   "metadata": {},
   "outputs": [],
   "source": [
    "def plan2D():\n",
    "    plan2D = PROD([QUOTE(xDims),QUOTE(yDims)])\n",
    "    return plan2D"
   ]
  },
  {
   "cell_type": "code",
   "execution_count": 61,
   "metadata": {},
   "outputs": [],
   "source": [
    "def building1():\n",
    "    building = EXTRUDE([10,plan2D(),12])\n",
    "    return building"
   ]
  },
  {
   "cell_type": "code",
   "execution_count": 62,
   "metadata": {},
   "outputs": [],
   "source": [
    "def building2():\n",
    "    building = EXTRUDE([25,plan2D(),20])\n",
    "    return building"
   ]
  },
  {
   "cell_type": "markdown",
   "metadata": {},
   "source": [
    "![building](building.png)"
   ]
  },
  {
   "cell_type": "code",
   "execution_count": 4,
   "metadata": {},
   "outputs": [
    {
     "data": {
      "text/plain": [
       "<pyplasm.xgepy.Hpc; proxy of <Swig Object of type 'std::shared_ptr< Hpc > *' at 0x7f2fe08c7f60> >"
      ]
     },
     "execution_count": 4,
     "metadata": {},
     "output_type": "execute_result"
    }
   ],
   "source": [
    "def c1():\n",
    "    return(COLOR([0,1,0,1])(CIRCLE(1)([48,1])));\n",
    "\n",
    "def c2():\n",
    "    return(COLOR([1,1,1,1])(CIRCLE(0.7)([48,1])));\n",
    "\n",
    "def c3():\n",
    "    return(COLOR([1,0,0,1])(CIRCLE(0.4)([48,1])));\n",
    "\n",
    "def out():\n",
    "    return (STRUCT([c1(),c2(),c3()]));\n",
    "\n",
    "VIEW(out())"
   ]
  },
  {
   "cell_type": "code",
   "execution_count": null,
   "metadata": {},
   "outputs": [],
   "source": []
  }
 ],
 "metadata": {
  "kernelspec": {
   "display_name": "Python 2",
   "language": "python",
   "name": "python2"
  },
  "language_info": {
   "codemirror_mode": {
    "name": "ipython",
    "version": 2
   },
   "file_extension": ".py",
   "mimetype": "text/x-python",
   "name": "python",
   "nbconvert_exporter": "python",
   "pygments_lexer": "ipython2",
   "version": "2.7.12"
  }
 },
 "nbformat": 4,
 "nbformat_minor": 2
}
