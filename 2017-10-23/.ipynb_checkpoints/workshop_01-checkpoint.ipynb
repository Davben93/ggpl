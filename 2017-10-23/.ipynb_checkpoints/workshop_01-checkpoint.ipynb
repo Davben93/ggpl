{
 "cells": [
  {
   "cell_type": "markdown",
   "metadata": {},
   "source": [
    "# Convert some Classic PLASM scripts from Chapter 1 and/or Chapter 2 of\n",
    " # book Geometric Programming for Computer-Aided Design (GP4CAD)\n",
    "# Free choice of number and type of scripts to Convert"
   ]
  },
  {
   "cell_type": "code",
   "execution_count": 5,
   "metadata": {},
   "outputs": [],
   "source": [
    "from pyplasm import *"
   ]
  },
  {
   "cell_type": "code",
   "execution_count": 9,
   "metadata": {},
   "outputs": [],
   "source": [
    "from larlib import *"
   ]
  },
  {
   "cell_type": "markdown",
   "metadata": {},
   "source": [
    "# esempio1"
   ]
  },
  {
   "cell_type": "raw",
   "metadata": {},
   "source": [
    "# Global function Plasm\n",
    "\n",
    "DEF global (p1::IsType1; p2::IsType2) (q1,q2::IsType3) = Body\n",
    "    WHERE\n",
    "    local1 = body1,\n",
    "    local2 = body2\n",
    "    WHERE local21 = body21 \n",
    "    END\n",
    "END;"
   ]
  },
  {
   "cell_type": "code",
   "execution_count": 10,
   "metadata": {},
   "outputs": [],
   "source": [
    "#codice python\n",
    "def global1(p1,p2):\n",
    "    def global2(q1,q2):\n",
    "        return body;\n",
    "    return global2;\n"
   ]
  },
  {
   "cell_type": "markdown",
   "metadata": {},
   "source": [
    "# esempio 2"
   ]
  },
  {
   "cell_type": "markdown",
   "metadata": {},
   "source": [
    "codice Plasm\n",
    "\n",
    "IsInt:1000 ≡ True"
   ]
  },
  {
   "cell_type": "code",
   "execution_count": 11,
   "metadata": {},
   "outputs": [
    {
     "data": {
      "text/plain": [
       "True"
      ]
     },
     "execution_count": 11,
     "metadata": {},
     "output_type": "execute_result"
    }
   ],
   "source": [
    "#codice python\n",
    "\n",
    "isinstance(100,int)==True #l output deve essere True"
   ]
  },
  {
   "cell_type": "markdown",
   "metadata": {},
   "source": [
    "# esempio 3"
   ]
  },
  {
   "cell_type": "markdown",
   "metadata": {},
   "source": [
    "codice Plasm\n",
    "\n",
    "IsString: 'Davide' ≡ True"
   ]
  },
  {
   "cell_type": "code",
   "execution_count": 12,
   "metadata": {},
   "outputs": [
    {
     "data": {
      "text/plain": [
       "True"
      ]
     },
     "execution_count": 12,
     "metadata": {},
     "output_type": "execute_result"
    }
   ],
   "source": [
    "#codice Python\n",
    "isinstance('Davide',basestring)==True"
   ]
  },
  {
   "cell_type": "markdown",
   "metadata": {},
   "source": [
    "# esempio 3"
   ]
  },
  {
   "cell_type": "markdown",
   "metadata": {},
   "source": [
    "codice plasm\n",
    "\n",
    "AND:<True,False>≡False "
   ]
  },
  {
   "cell_type": "code",
   "execution_count": 13,
   "metadata": {},
   "outputs": [
    {
     "data": {
      "text/plain": [
       "True"
      ]
     },
     "execution_count": 13,
     "metadata": {},
     "output_type": "execute_result"
    }
   ],
   "source": [
    "AND([True,False])==False #deve restituire True"
   ]
  },
  {
   "cell_type": "markdown",
   "metadata": {},
   "source": [
    "# esempio 4 (una forma ad L)"
   ]
  },
  {
   "cell_type": "raw",
   "metadata": {},
   "source": [
    "#codice Plasm\n",
    "\n",
    "DEF L_shape1 = MKPOL:< verts, cells, pols >\n",
    "       WHERE\n",
    "        verts = <<0,0>,<2,0>,<2,1>,<1,1>,<1,2>,<0,2>>,\n",
    "        cells = <<1,2,3,4>,<4,5,6,1>>,\n",
    "        pols = <<1>,<2>>\n",
    "END;\n",
    "\n",
    "DEF L shape2 = MKPOL:< verts, cells, pols >\n",
    "        WHERE\n",
    "        verts = <<0,0>,<2,0>,<2,1>,<1,1>,<1,2>,<0,2>>,\n",
    "        cells = <<1,2,3,4>,<4,5,6,1>>,\n",
    "        pols = <<1,2>>\n",
    "END;"
   ]
  },
  {
   "cell_type": "code",
   "execution_count": 14,
   "metadata": {},
   "outputs": [],
   "source": [
    "#codice Python\n",
    "\n",
    "def l_Shape() :\n",
    "    verts=[[0,0],[2,0],[2,1],[1,1],[1,2],[0,2]]\n",
    "    cells=[[1,2,3,4],[4,5,6,1]]\n",
    "    pols=[[1],[2]]\n",
    "    return MKPOL([verts,cells,pols]);\n",
    "    \n"
   ]
  },
  {
   "cell_type": "code",
   "execution_count": 15,
   "metadata": {},
   "outputs": [
    {
     "data": {
      "text/plain": [
       "<pyplasm.xgepy.Hpc; proxy of <Swig Object of type 'std::shared_ptr< Hpc > *' at 0x7fddd162f210> >"
      ]
     },
     "execution_count": 15,
     "metadata": {},
     "output_type": "execute_result"
    }
   ],
   "source": [
    "VIEW(l_Shape())"
   ]
  },
  {
   "cell_type": "markdown",
   "metadata": {},
   "source": [
    "![LSHAPE](img1.png)"
   ]
  },
  {
   "cell_type": "markdown",
   "metadata": {},
   "source": [
    "# esempio 5 (tavolo1)"
   ]
  },
  {
   "cell_type": "raw",
   "metadata": {},
   "source": [
    "codice Plasm\n",
    "\n",
    "Table model\n",
    "DEF Leg = CUBOID:< 0.1,0.1,0.7 >;\n",
    "\n",
    "DEF Plane = CUBOID:< 1, 1, 0.2>;\n",
    "\n",
    "DEF Table1 = STRUCT:<Leg, T:1:0.9:Leg, T:<1,2>:<0.9,0.9>:Leg, T:2:0.9:Leg,T:3:0.7:Plane >;\n"
   ]
  },
  {
   "cell_type": "code",
   "execution_count": 24,
   "metadata": {},
   "outputs": [],
   "source": [
    "#codice Python\n",
    "def leg():\n",
    "    return CUBOID([0.1,0.1,0.7]);\n",
    "\n",
    "def plane():\n",
    "    return CUBOID([1,1,0.2]);\n",
    "\n",
    "def table1():\n",
    "    table = STRUCT([leg(),T(1)(0.9)(leg()),T([1,2])([0.9,0.9])(leg()),T(2)(0.9)(leg()),T(3)([0.7])(plane())])\n",
    "    return table;"
   ]
  },
  {
   "cell_type": "code",
   "execution_count": 18,
   "metadata": {},
   "outputs": [
    {
     "data": {
      "text/plain": [
       "<pyplasm.xgepy.Hpc; proxy of <Swig Object of type 'std::shared_ptr< Hpc > *' at 0x7fddd162f600> >"
      ]
     },
     "execution_count": 18,
     "metadata": {},
     "output_type": "execute_result"
    }
   ],
   "source": [
    "VIEW(table1())"
   ]
  },
  {
   "cell_type": "code",
   "execution_count": 25,
   "metadata": {},
   "outputs": [
    {
     "name": "stdout",
     "output_type": "stream",
     "text": [
      "/bin/sh: 1: Syntax error: word unexpected (expecting \")\")\r\n"
     ]
    }
   ],
   "source": [
    "![Tavolo](tavolo1.png)"
   ]
  },
  {
   "cell_type": "markdown",
   "metadata": {},
   "source": [
    "# esempio 6 (facciata del palazzo)"
   ]
  },
  {
   "cell_type": "raw",
   "metadata": {},
   "source": [
    "Script 1.5.6 (Building facade)\n",
    "\n",
    "DEF facade (n,m::IsIntPos) = STRUCT:<Q:xRithm * Q:yRithm,Q:xVoid * Q:yRithm,Q:xRithm * Q:yVoid ,@1:(Q:xVoid * Q:yVoid) >\n",
    "WHERE\n",
    "    xRithm = ##:n:<5,-2,-5,-2> AR 5,\n",
    "    yRithm = ##:m:<7,-5,-2> AR 7,\n",
    "    xVoid = AA:-:xRithm,\n",
    "    yVoid = AA:-:yRithm\n",
    "   ,SKEL_1(PROD([QUOTE(xVoid),QUOTE(yVoid)])),PROD([QUOTE(xRithm),QUOTE(yVoid)]),PROD([QUOTE(xVoid),QUOTE(yRithm)])\n",
    "END;"
   ]
  },
  {
   "cell_type": "code",
   "execution_count": 27,
   "metadata": {},
   "outputs": [],
   "source": [
    "def facade(n,m):\n",
    "    xRithm = n*([5,-2,-5,-2])\n",
    "    xRithm.append(5)\n",
    "    yRithm = m*([7,-5,-2])\n",
    "    yRithm.append(7)\n",
    "    xVoid = [-x for x in xRithm]\n",
    "    yVoid = [-x for x in yRithm]    \n",
    "    prodotto1=PROD([QUOTE(xRithm),QUOTE(yRithm)])\n",
    "    prodotto2=PROD([QUOTE(xVoid),QUOTE(yRithm)])\n",
    "    prodotto3=PROD([QUOTE(xRithm),QUOTE(yVoid)])\n",
    "    prodotto4=SKEL_1(PROD([QUOTE(xVoid),QUOTE(yVoid)]))\n",
    "    return STRUCT([prodotto1,prodotto2,prodotto3,prodotto4]);"
   ]
  },
  {
   "cell_type": "code",
   "execution_count": 28,
   "metadata": {},
   "outputs": [
    {
     "data": {
      "text/plain": [
       "<pyplasm.xgepy.Hpc; proxy of <Swig Object of type 'std::shared_ptr< Hpc > *' at 0x7fddd162f4e0> >"
      ]
     },
     "execution_count": 28,
     "metadata": {},
     "output_type": "execute_result"
    }
   ],
   "source": [
    "VIEW(facade(4,3))"
   ]
  },
  {
   "cell_type": "code",
   "execution_count": 33,
   "metadata": {},
   "outputs": [
    {
     "name": "stdout",
     "output_type": "stream",
     "text": [
      "/bin/sh: 1: facciataPalazzo.png: not found\r\n"
     ]
    }
   ],
   "source": [
    "!(facciataPalazzo.png)"
   ]
  },
  {
   "cell_type": "markdown",
   "metadata": {},
   "source": [
    "# esempio 7 (Tavolo con sedie disposte)"
   ]
  },
  {
   "cell_type": "raw",
   "metadata": {},
   "source": [
    "#codice plasm\n",
    "\n",
    "Script 1.5.10 (Table model (2))\n",
    "\n",
    "DEF legs = Q:< 0.1,-0.8,0.1 > * Q:< 0.1,-0.8,0.1 > * Q:0.7;\n",
    "\n",
    "DEF plane = Q:1 * Q:1 * Q:0.2;\n",
    "\n",
    "DEF table = Legs TOP Plane;\n",
    "\n",
    "DEF chair = S:<1,2,3>:<0.4,0.4,0.5>:Table;\n",
    "\n",
    "DEF assembly = chair RIGHT table RIGHT chair UP chair DOWN chair\n",
    "\n",
    "VRML:assembly: 'out.wrl'"
   ]
  },
  {
   "cell_type": "code",
   "execution_count": 40,
   "metadata": {},
   "outputs": [
    {
     "data": {
      "text/plain": [
       "<pyplasm.xgepy.Hpc; proxy of <Swig Object of type 'std::shared_ptr< Hpc > *' at 0x7fddd162f930> >"
      ]
     },
     "execution_count": 40,
     "metadata": {},
     "output_type": "execute_result"
    }
   ],
   "source": [
    "# codice python\n",
    "\n",
    "def legs() :\n",
    "    base_delle_4_gambe = PROD([QUOTE([0.1,0.1,0.1]),QUOTE([0.1,0.1,0.1])]) #2 prodotti cartesiani\n",
    "    gambe_con_la_3_dimensione = PROD([base_delle_4_gambe,QUOTE([0.7])])   #3 prodotti cartesiani\n",
    "    \n",
    "    return base_delle_4_gambe;\n",
    "\n",
    "VIEW(legs())"
   ]
  },
  {
   "cell_type": "code",
   "execution_count": 58,
   "metadata": {},
   "outputs": [
    {
     "data": {
      "text/plain": [
       "<pyplasm.xgepy.Hpc; proxy of <Swig Object of type 'std::shared_ptr< Hpc > *' at 0x7fddd01845d0> >"
      ]
     },
     "execution_count": 58,
     "metadata": {},
     "output_type": "execute_result"
    }
   ],
   "source": [
    "# codice python\n",
    "def plane() :\n",
    "    piano_2D = PROD([QUOTE([1]),QUOTE([2])])\n",
    "    piano_3D = PROD([piano_2D,QUOTE([0.1])])\n",
    "    \n",
    "    return piano_3D;\n",
    "\n",
    "VIEW(plane())"
   ]
  },
  {
   "cell_type": "code",
   "execution_count": 59,
   "metadata": {},
   "outputs": [
    {
     "ename": "SyntaxError",
     "evalue": "invalid syntax (<ipython-input-59-bfdd77e4f014>, line 2)",
     "output_type": "error",
     "traceback": [
      "\u001b[0;36m  File \u001b[0;32m\"<ipython-input-59-bfdd77e4f014>\"\u001b[0;36m, line \u001b[0;32m2\u001b[0m\n\u001b[0;31m    return legs() TOP plane()\u001b[0m\n\u001b[0m                    ^\u001b[0m\n\u001b[0;31mSyntaxError\u001b[0m\u001b[0;31m:\u001b[0m invalid syntax\n"
     ]
    }
   ],
   "source": [
    "def table() :\n",
    "    return legs() TOP plane()\n",
    "\n",
    "VIEW(table())"
   ]
  },
  {
   "cell_type": "code",
   "execution_count": null,
   "metadata": {},
   "outputs": [],
   "source": []
  }
 ],
 "metadata": {
  "kernelspec": {
   "display_name": "Python 2",
   "language": "python",
   "name": "python2"
  },
  "language_info": {
   "codemirror_mode": {
    "name": "ipython",
    "version": 2
   },
   "file_extension": ".py",
   "mimetype": "text/x-python",
   "name": "python",
   "nbconvert_exporter": "python",
   "pygments_lexer": "ipython2",
   "version": "2.7.12"
  }
 },
 "nbformat": 4,
 "nbformat_minor": 2
}
