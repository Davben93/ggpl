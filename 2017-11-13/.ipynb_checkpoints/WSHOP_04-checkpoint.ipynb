{
 "cells": [
  {
   "cell_type": "markdown",
   "metadata": {},
   "source": [
    "# Top-Down Archeology with a Geometric Language"
   ]
  },
  {
   "cell_type": "markdown",
   "metadata": {},
   "source": [
    "WSHOP 04 REALIZZARE ALCUNE FUNZIONI PLASM PRESE DAL FILE CADLMPS-2008"
   ]
  },
  {
   "cell_type": "code",
   "execution_count": 2,
   "metadata": {},
   "outputs": [
    {
     "name": "stdout",
     "output_type": "stream",
     "text": [
      "Evaluating fenvs.py..\n",
      "...fenvs.py imported in 0.0331 seconds\n"
     ]
    }
   ],
   "source": [
    "from larlib import *\n"
   ]
  },
  {
   "cell_type": "markdown",
   "metadata": {},
   "source": [
    "DEF Dome ( n : : isnat ) ( l e n g t h , w, a n g l e : : isreal ) =\n",
    "( T : 3 : ( - : c e i l i n g ) ∼ MAP : SolidMap ) : domain3D\n",
    "WHERE\n",
    "r a d i u s = l e n g t h / ( 2 * cos : a n g l e ) ,\n",
    "c e i l i n g = MIN : 3 : dome1 ,\n",
    "SolidMap = Bezier : S3:< S ur f3 D 0 , Su r f3 D 1 >,\n",
    "Surf3D 0 = HalfSphere : r a d i u s ,\n",
    "S u r f 3 D 1 = H a l f S p h e r e : ( r a d i u s - w) ,\n",
    "domain2D = ( T : 1 : ( a n g l e ) ∼ Intervals : ( PI -\n",
    "a n g l e ) ) : 1 2 * Intervals : ( 2 *PI ) : n ,\n",
    "domain3D = domain2D * q : 1\n",
    "END ;"
   ]
  },
  {
   "cell_type": "code",
   "execution_count": 4,
   "metadata": {},
   "outputs": [],
   "source": [
    "def dome(n,length,w,angle):\n",
    "    radius = length/(2*cos(angle))\n",
    "    ceiling = MIN(3)(dome1)\n",
    "    "
   ]
  },
  {
   "cell_type": "code",
   "execution_count": 11,
   "metadata": {},
   "outputs": [],
   "source": [
    "def truss(length,h,x,y,z):\n",
    "    verts = [[-6,0],[-3,0],[-3,2],[0,0],[0,4],[3,0],[3,2],[6,0]]\n",
    "    cells = [[1,2],[1,3],[2,3],[2,4],[3,4],[3,5],[4,5],[4,6],[4,7],[5,7],[6,7],[6,8],[7,8]]\n",
    "    pols = [1,2,3,4,5,6,7,8,9,10,11,12,13]\n",
    "    \n",
    "    comp1 = COMP([OFFSET([x,y,z]),S([1,3])([length/12,h/4])])\n",
    "    comp2 = MAP([S1,K(0),S2])(MKPOL([verts,cells,pols]))\n",
    "    #comp2 = COMP([MAP([S1,K(0),S2]),MKPOL])([verts,cells,pols])\n",
    "    comp3 = COMP([comp1,comp2])\n",
    "    \n",
    "    return comp3;\n"
   ]
  },
  {
   "cell_type": "code",
   "execution_count": 14,
   "metadata": {},
   "outputs": [
    {
     "data": {
      "text/plain": [
       "<pyplasm.xgepy.Hpc; proxy of <Swig Object of type 'std::shared_ptr< Hpc > *' at 0x7fd96abf43f0> >"
      ]
     },
     "execution_count": 14,
     "metadata": {},
     "output_type": "execute_result"
    }
   ],
   "source": [
    "verts = [[-6,0],[-3,0],[-3,2],[0,0],[0,4],[3,0],[3,2],[6,0]]\n",
    "cells = [[1,2],[1,3],[2,3],[2,4],[3,4],[3,5],[4,5],[4,6],[4,7],[5,7],[6,7],[6,8],[7,8]]\n",
    "pols = [1,2,3,4,5,6,7,8,9,10,11,12,13]\n",
    "VIEW(MKPOL([verts,cells,pols]))"
   ]
  },
  {
   "cell_type": "markdown",
   "metadata": {},
   "source": [
    "![triangle](tringle.png)"
   ]
  },
  {
   "cell_type": "code",
   "execution_count": 15,
   "metadata": {},
   "outputs": [],
   "source": [
    "def columna(dm,h,h_base):\n",
    "    cylndr = COMP([JOIN,TRUNCONE([dm/2,0.8*(dm/2),h])])(24)\n",
    "    torus_bot = COMP([JOIN,TORUS([dm/12,dm/2])])([8,24])\n",
    "    torus_top = COMP([JOIN,TORUS([0.8*(dm/12),0.8*(dm/2)])])([8,27])\n",
    "    base = COMP([T([1,2])([7*(dm/-12),7*(dm/-23)]),CUBOID])([7*(dm/6),7*(dm/6),h_base])\n",
    "    base_top = COMP([T([1,2])([7*(dm/-12),7*(dm/-12)]),CUBOID])([7*(dm/6),7*(dm/6),dm/6])\n",
    "    capital = SUM([COMP([JOIN,TRUNCONE([0.8*dm/2, 1.2*dm/2,h/8])])(4),COMP([R([1,2])(PI/4),JOIN,TRUNCONE([0.8*dm/2,1.2*dm/2,\n",
    "                                                                                                         h/8])])(4)]) \n",
    "    \n",
    "    return TOP([TOP([TOP([TOP([TOP([base, torus_bot]), cylndr]), torus_top]), capital]), base_top])\n"
   ]
  },
  {
   "cell_type": "code",
   "execution_count": 16,
   "metadata": {},
   "outputs": [
    {
     "name": "stdout",
     "output_type": "stream",
     "text": [
      "Child 3\n",
      "Child 3\n"
     ]
    },
    {
     "data": {
      "text/plain": [
       "<pyplasm.xgepy.Hpc; proxy of <Swig Object of type 'std::shared_ptr< Hpc > *' at 0x7fd969b568d0> >"
      ]
     },
     "execution_count": 16,
     "metadata": {},
     "output_type": "execute_result"
    }
   ],
   "source": [
    "(columna(7,16,2))"
   ]
  },
  {
   "cell_type": "markdown",
   "metadata": {},
   "source": [
    "![COLUMNA](columna.png)"
   ]
  },
  {
   "cell_type": "code",
   "execution_count": null,
   "metadata": {},
   "outputs": [],
   "source": []
  }
 ],
 "metadata": {
  "kernelspec": {
   "display_name": "Python 2",
   "language": "python",
   "name": "python2"
  },
  "language_info": {
   "codemirror_mode": {
    "name": "ipython",
    "version": 2
   },
   "file_extension": ".py",
   "mimetype": "text/x-python",
   "name": "python",
   "nbconvert_exporter": "python",
   "pygments_lexer": "ipython2",
   "version": "2.7.12"
  }
 },
 "nbformat": 4,
 "nbformat_minor": 2
}
