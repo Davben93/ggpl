{
 "cells": [
  {
   "cell_type": "markdown",
   "metadata": {},
   "source": [
    "# Top-Down Archeology with a Geometric Language"
   ]
  },
  {
   "cell_type": "code",
   "execution_count": 1,
   "metadata": {},
   "outputs": [
    {
     "name": "stdout",
     "output_type": "stream",
     "text": [
      "Evaluating fenvs.py..\n",
      "...fenvs.py imported in 0.020396 seconds\n"
     ]
    }
   ],
   "source": [
    "from larlib import *\n"
   ]
  },
  {
   "cell_type": "code",
   "execution_count": null,
   "metadata": {},
   "outputs": [],
   "source": [
    "def archSurface(rr,w):\n",
    "    circle0 = [rr*cos ∼ S1 , K : r r * sin ∼ S1 >,\n",
    "    C i r c l e 1 = <K : ( r r - w) * cos ∼ S1 , K : ( r r - w)\n",
    "    * sin ∼ S1>\n",
    "return BEZIER(S2)([circle0,circle1])"
   ]
  },
  {
   "cell_type": "raw",
   "metadata": {},
   "source": [
    "DEF Dome ( n : : isnat ) ( l e n g t h , w, a n g l e : : isreal ) =\n",
    "( T : 3 : ( - : c e i l i n g ) ∼ MAP : SolidMap ) : domain3D\n",
    "WHERE\n",
    "r a d i u s = l e n g t h / ( 2 * cos : a n g l e ) ,\n",
    "c e i l i n g = MIN : 3 : dome1 ,\n",
    "SolidMap = Bezier : S3:< S ur f3 D 0 , Su r f3 D 1 >,\n",
    "Surf3D 0 = HalfSphere : r a d i u s ,\n",
    "S u r f 3 D 1 = H a l f S p h e r e : ( r a d i u s - w) ,\n",
    "domain2D = ( T : 1 : ( a n g l e ) ∼ Intervals : ( PI -\n",
    "a n g l e ) ) : 1 2 * Intervals : ( 2 *PI ) : n ,\n",
    "domain3D = domain2D * q : 1\n",
    "END ;"
   ]
  },
  {
   "cell_type": "code",
   "execution_count": null,
   "metadata": {},
   "outputs": [],
   "source": [
    "def dome(n,length,w,angle):\n",
    "    radius = length/(2*cos(angle))\n",
    "    ceiling = MIN(3)(dome1)\n",
    "    "
   ]
  },
  {
   "cell_type": "code",
   "execution_count": null,
   "metadata": {},
   "outputs": [],
   "source": []
  }
 ],
 "metadata": {
  "kernelspec": {
   "display_name": "Python 2",
   "language": "python",
   "name": "python2"
  },
  "language_info": {
   "codemirror_mode": {
    "name": "ipython",
    "version": 2
   },
   "file_extension": ".py",
   "mimetype": "text/x-python",
   "name": "python",
   "nbconvert_exporter": "python",
   "pygments_lexer": "ipython2",
   "version": "2.7.12"
  }
 },
 "nbformat": 4,
 "nbformat_minor": 2
}
