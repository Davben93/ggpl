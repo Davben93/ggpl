{
 "cells": [
  {
   "cell_type": "markdown",
   "metadata": {},
   "source": [
    "# ULTIMO WORKSHOP"
   ]
  },
  {
   "cell_type": "markdown",
   "metadata": {},
   "source": [
    "IN QUESTO WORKSHOP, a partire dalla piantina realizzata nel workshop 5 è stato richiesto di ricreare l'intera struttura della villa"
   ]
  },
  {
   "cell_type": "markdown",
   "metadata": {},
   "source": [
    "Villa Almerico Capra detta La Rotonda (conosciuta anche come Villa Capra Valmarana) è una villa veneta a pianta centrale situata a ridosso della città di Vicenza, poco discosta dalla strada della Riviera Berica. Fatta costruire da Paolo Almerico, che la commissionò ad Andrea Palladio nel 1566-1567"
   ]
  },
  {
   "cell_type": "markdown",
   "metadata": {},
   "source": [
    "![Villa Rotunda-dall'alto](Villa Rotunda-dall'alto.png)"
   ]
  },
  {
   "cell_type": "markdown",
   "metadata": {},
   "source": [
    "L'idea alla base é quella di sfruttare le simmetrie della villa e quindi di realizzare il primo quarto, successivamente la metà e poi simmetricamente l'intera villa"
   ]
  },
  {
   "cell_type": "markdown",
   "metadata": {},
   "source": [
    "# primo quarto villa"
   ]
  },
  {
   "cell_type": "markdown",
   "metadata": {},
   "source": [
    "![1.4](1.4.png)"
   ]
  },
  {
   "cell_type": "markdown",
   "metadata": {},
   "source": [
    "# metà villa "
   ]
  },
  {
   "cell_type": "markdown",
   "metadata": {},
   "source": [
    "![1.2](1.2.png)"
   ]
  },
  {
   "cell_type": "markdown",
   "metadata": {},
   "source": [
    "# VILLA CAPRA"
   ]
  },
  {
   "cell_type": "markdown",
   "metadata": {},
   "source": [
    "![1](1x.png)"
   ]
  },
  {
   "cell_type": "markdown",
   "metadata": {},
   "source": [
    "![2](2x.png)"
   ]
  },
  {
   "cell_type": "markdown",
   "metadata": {},
   "source": [
    "![3](3x.png)"
   ]
  },
  {
   "cell_type": "code",
   "execution_count": 2,
   "metadata": {},
   "outputs": [],
   "source": [
    "from pyplasm import*\n",
    "from larlib import*\n",
    "import math\n",
    "import csv"
   ]
  },
  {
   "cell_type": "code",
   "execution_count": null,
   "metadata": {},
   "outputs": [],
   "source": []
  },
  {
   "cell_type": "code",
   "execution_count": 3,
   "metadata": {},
   "outputs": [],
   "source": [
    "def perimetro(): \n",
    "    with open(\"VillaCapra1.4.lines\", \"rb\") as file:\n",
    "        file_reader = csv.reader(file, delimiter=\",\")\n",
    "        chiavi = {} ### diizionario delle chiavi\n",
    "        nodi = [] ### array con i vertici\n",
    "        archi= [] ### array con gli archi, ovvero gli spigoli\n",
    "        i = 0 ### inizializzo un contatore\n",
    "    \n",
    "        for righe in file_reader:\n",
    "            riga0 = math.floor(float(righe[0])*100)/100\n",
    "            riga1 = math.floor(float(righe[1])*100)/100\n",
    "            riga2 = math.floor(float(righe[2])*100)/100\n",
    "            riga3 = math.floor(float(righe[3])*100)/100\n",
    "        \n",
    "            if not(riga0,riga1) in chiavi.keys():\n",
    "                chiavi[(riga0,riga1)] = i\n",
    "                nodi.append((riga0,riga1))\n",
    "                i = i+1\n",
    "            \n",
    "            if not(riga2,riga3) in chiavi.keys():\n",
    "                chiavi[(riga2,riga3)] = i\n",
    "                nodi.append((riga2,riga3))\n",
    "                i = i+1\n",
    "            archi.append((chiavi[(riga0,riga1)],(chiavi[(riga2,riga3)])))\n",
    "        pavimento = (CUBOID([850,600]))\n",
    "        corpoVilla = MULTEXTRUDE(OFFSET([7,7])(STRUCT(MKPOLS([nodi,archi]))))(250)\n",
    "    return corpoVilla"
   ]
  },
  {
   "cell_type": "code",
   "execution_count": 4,
   "metadata": {},
   "outputs": [],
   "source": [
    "perimetro = (perimetro())"
   ]
  },
  {
   "cell_type": "code",
   "execution_count": 5,
   "metadata": {},
   "outputs": [],
   "source": [
    "def columna(dm,h,h_base):    \n",
    "    cylndr = COMP([JOIN,TRUNCONE([dm/2,0.8*(dm/2),h])])(24)    \n",
    "    torus_bot = COMP([JOIN,TORUS([dm/12,dm/2])])([8,24])    \n",
    "    torus_top = COMP([JOIN,TORUS([0.8*(dm/12),0.8*(dm/2)])])([8,27])    \n",
    "    base = COMP([T([1,2])([7*(dm/-12),7*(dm/-23)]),CUBOID])([7*(dm/6),7*(dm/6),h_base])    \n",
    "    base_top = COMP([T([1,2])([7*(dm/-12),7*(dm/-12)]),CUBOID])([7*(dm/6),7*(dm/6),dm/6])    \n",
    "    capital = SUM([COMP([JOIN,TRUNCONE([0.8*dm/2, 1.2*dm/2,h/8])])(4),COMP([R([1,2])(PI/4),JOIN,TRUNCONE([0.8*dm/2,1.2*dm/2,                                                                                                     h/8])])(4)]) \n",
    "    return (TOP([TOP([TOP([TOP([TOP([base, torus_bot]), cylndr]), torus_top]), capital]), base_top]))"
   ]
  },
  {
   "cell_type": "code",
   "execution_count": 6,
   "metadata": {},
   "outputs": [],
   "source": [
    "def piramide(depth,width,height):\n",
    "    _width = float(width)    \n",
    "    _scale = float(depth)/_width    \n",
    "    _height = float(height)    \n",
    "    return SCALE(2)(_scale)(ROTATE([1,2])(PI/4)(CONE([_width*(1/SQRT(2)),_height])(4)))\n",
    "def elementoTriangolare():    \n",
    "    return TEXTURE(\"scale.JPG\")(R([1,2])(PI/2)((R([2,3])(-PI)(DIFFERENCE([CUBOID([154/2,154/2,60]),piramide(154,70000,60)])))))"
   ]
  },
  {
   "cell_type": "code",
   "execution_count": 7,
   "metadata": {},
   "outputs": [],
   "source": [
    "def sferaDimezzata (radius):\n",
    "        def GSPHERE0 (subds):\n",
    "            N , M = subds\n",
    "            domain = Hpc(Grid([N*[PI/N],M*[PI/M]]))\n",
    "            domain = MAT([[1,0,0,0],[PI/2,1,0,0],[PI,0,1,0],[0,0,0,1]])(domain)\n",
    "            fx  = lambda p: radius * math.cos(p[0]) * math.sin  (p[1])\n",
    "            fy  = lambda p: radius * math.cos(p[0]) * math.cos (p[1])\n",
    "            fz  = lambda p: radius * math.sin(p[0])\n",
    "            ret=  GMAP([fx, fy, fz])(domain)\n",
    "            return ret\n",
    "        return GSPHERE0"
   ]
  },
  {
   "cell_type": "code",
   "execution_count": null,
   "metadata": {},
   "outputs": [],
   "source": [
    "def tetto1():\n",
    "    tetto1 = MKPOL([verts(),[[1,2,3,4],[2,4,8]],[[1],[2]]])\n",
    "    return tetto1;"
   ]
  },
  {
   "cell_type": "code",
   "execution_count": 8,
   "metadata": {},
   "outputs": [],
   "source": [
    "def tettoTriangolare(depth,width):\n",
    "    return TEXTURE(\"tetto.JPG\")(S([1,2,3])([22,28.34,30])((ROTATE([1, 2])(PI)(ROTATE([2,3])(PI/2)(\n",
    "        MULTEXTRUDE(MKPOL([[[0, 0],[width/2,width/4],[width,0]],[[1,2,3]],None]))(depth))))))"
   ]
  },
  {
   "cell_type": "code",
   "execution_count": 9,
   "metadata": {},
   "outputs": [],
   "source": [
    "p2 = (T([1,2])([-144,-420])(perimetro))"
   ]
  },
  {
   "cell_type": "code",
   "execution_count": 10,
   "metadata": {},
   "outputs": [
    {
     "data": {
      "text/plain": [
       "<pyplasm.xgepy.Hpc; proxy of <Swig Object of type 'std::shared_ptr< Hpc > *' at 0x7f573be57930> >"
      ]
     },
     "execution_count": 10,
     "metadata": {},
     "output_type": "execute_result"
    }
   ],
   "source": [
    "def perimetroFinestrato():    \n",
    "    finestraFrnt1= (T([1,2,3])([-5,20,60])(CUBOID([10,20,50])))\n",
    "    finestraFrnt2 = T([1,2,3])([-5,20,220])(CUBOID([10,20,20]))\n",
    "    finestraFrnt3 = T([1,2,3])([-5,80,220])(CUBOID([10,20,20]))\n",
    "    finestraLat1 = T([1,2,3])([20,-10,60])(CUBOID([20,10,50]))\n",
    "    finestraLat2 = T([1,2,3])([20,-10,220])(CUBOID([20,10,20]))\n",
    "    finestraLat3 = T([1,2,3])([80,-10,220])(CUBOID([20,10,20]))\n",
    "    portaFrnt = (T([1,2,3])([-5,122.5,60])(CUBOID([10,20,70])))\n",
    "    portaLat = T([1,2,3])([133.5,-10,60])(CUBOID([20,10,70]))\n",
    "    finestraPorta = TEXTURE(\"finestra.JPG\")(STRUCT([portaFrnt,portaLat,finestraFrnt1,finestraFrnt2,finestraFrnt3,finestraLat1,finestraLat2,finestraLat3]))\n",
    "    perimetroFinestrato = (STRUCT([TEXTURE(\"intonacoMuri.JPG\")(p2),TEXTURE(\"finestra.JPG\")(finestraPorta)]))\n",
    "    return perimetroFinestrato\n",
    "VIEW(perimetroFinestrato())"
   ]
  },
  {
   "cell_type": "code",
   "execution_count": 11,
   "metadata": {},
   "outputs": [
    {
     "name": "stdout",
     "output_type": "stream",
     "text": [
      "Child 3\n",
      "Child 3\n",
      "Child 3\n",
      "Child 3\n",
      "Child 3\n",
      "Child 3\n"
     ]
    }
   ],
   "source": [
    "verandaDx = CUBOID([154/3,143/2,10])\n",
    "colonnatiVerandaDx = STRUCT([verandaDx,T([1,2,3])([14,-14/2,10])(columna(14,100,10)),\n",
    "                                T([1,2,3])([14,143/2-14,10])(columna(14,100,10)),\n",
    "                                T([1,2,3])([14,143/2-14*3-4,10])(columna(14,100,10))])"
   ]
  },
  {
   "cell_type": "code",
   "execution_count": 12,
   "metadata": {},
   "outputs": [
    {
     "name": "stdout",
     "output_type": "stream",
     "text": [
      "Child 3\n",
      "Child 3\n",
      "Child 3\n",
      "Child 3\n",
      "Child 3\n",
      "Child 3\n"
     ]
    }
   ],
   "source": [
    "verandaSx = CUBOID([154/2,154/3,10])\n",
    "colonnatiVerandaSx = STRUCT([verandaSx,T([2,3])([14/2,10])(columna(14,100,10)),\n",
    "                                T([1,2,3])([14+14+14/2,14/2,10])(columna(14,100,10)),\n",
    "                                T([1,2,3])([154/2-14/2,14/2,10])(columna(14,100,10))])"
   ]
  },
  {
   "cell_type": "code",
   "execution_count": 13,
   "metadata": {},
   "outputs": [],
   "source": [
    "basamentoScala= DIFFERENCE([CUBOID([154,30,60]),T(1)(114)(CUBOID([30,30,50]))])"
   ]
  },
  {
   "cell_type": "code",
   "execution_count": 14,
   "metadata": {},
   "outputs": [],
   "source": [
    "arcata = DIFFERENCE([CUBOID([154/3,10,195]),T(1)(10)(CUBOID([30,10,175]))])"
   ]
  },
  {
   "cell_type": "code",
   "execution_count": 15,
   "metadata": {},
   "outputs": [],
   "source": [
    "scalinataDx=STRUCT([TEXTURE(\"intonacoMuri.JPG\")(basamentoScala),S([1,2])([1.4,1.11])(T(3)(60)(elementoTriangolare())),TEXTURE(\"intonacoMuri.JPG\")(T(1)(154-154/3)(arcata))])"
   ]
  },
  {
   "cell_type": "code",
   "execution_count": 16,
   "metadata": {},
   "outputs": [],
   "source": [
    "scalinataSx=STRUCT([TEXTURE(\"intonacoMuri.JPG\")(basamentoScala),S([1,2])([1.4,1.11])(T([2,3])([-60,60])(elementoTriangolare())),TEXTURE(\"intonacoMuri.JPG\")(T([1,2])([154-154/3,30-10])(arcata))])"
   ]
  },
  {
   "cell_type": "code",
   "execution_count": 17,
   "metadata": {},
   "outputs": [],
   "source": [
    "basamentoScalaDx = T([1,2])([-154,143/2-15])(STRUCT([scalinataDx,TEXTURE(\"intonacoMuri.JPG\")(T([1,2,3])([154-154/3,15,50])(colonnatiVerandaDx))]))\n"
   ]
  },
  {
   "cell_type": "code",
   "execution_count": 18,
   "metadata": {},
   "outputs": [],
   "source": [
    "basamentoScalaSx = T([1,2])([30+154/2-15,-160])(STRUCT([TEXTURE(\"intonacoMuri.JPG\")(T([1,2,3])([-15,154-154/3,50])(colonnatiVerandaSx)),(R([1,2])(PI/2)(scalinataSx))]))"
   ]
  },
  {
   "cell_type": "code",
   "execution_count": 19,
   "metadata": {},
   "outputs": [],
   "source": [
    "def tettuccioSx():\n",
    "    tettuccioSx = STRUCT([T([1,2,3])([-50,58,195])(CUBOID([55,88,10])),T([1,2,3])([4,51.5,252])((R([1,2])(PI/2)(S([1,2,3])([1.2,0.7,0.8])(elementoTriangolare()))))])\n",
    "    return TEXTURE(\"tetto.JPG\")(tettuccioSx)"
   ]
  },
  {
   "cell_type": "code",
   "execution_count": 20,
   "metadata": {},
   "outputs": [],
   "source": [
    "def tettuccioDx():\n",
    "        tettuccioDx = STRUCT([R([1,2])(PI)(T([1,2,3])([-150.5,2,195])(CUBOID([87,55,10]))),(T([1,2,3])([60,-57,253])(R([1,2])(PI)(R([1,2])(PI)(S([1,2,3])([1.2,0.7,0.8])(elementoTriangolare())))))])\n",
    "        return TEXTURE(\"tetto.JPG\")(tettuccioDx)"
   ]
  },
  {
   "cell_type": "code",
   "execution_count": 22,
   "metadata": {},
   "outputs": [],
   "source": [
    "def tetto():\n",
    "    tettox = INTERSECTION([tettoTriangolare(10,20),T([1,2])([-80,360])(R([1,2])(PI/2)(tettoTriangolare(10,20)))])\n",
    "    tetto = DIFFERENCE([tettox,T(1)(-365)(CUBOID([290,350,50]))])\n",
    "    return TEXTURE(\"tetto.JPG\")(tetto)"
   ]
  },
  {
   "cell_type": "code",
   "execution_count": 23,
   "metadata": {},
   "outputs": [
    {
     "name": "stdout",
     "output_type": "stream",
     "text": [
      "Child 3\n"
     ]
    }
   ],
   "source": [
    "spessore = CUBOID([0.1,0.1,0.1])\n",
    "sferaDimezzata1 = (sferaDimezzata(1.1)([30,30]))\n",
    "sferaDimezzataX = JOIN([sferaDimezzata1,spessore])"
   ]
  },
  {
   "cell_type": "code",
   "execution_count": 24,
   "metadata": {},
   "outputs": [],
   "source": [
    "def cupola():\n",
    "    primoAnello = TEXTURE(\"tetto.JPG\")(T(3)(1)(CYLINDER([0.7,0.1])(30)))\n",
    "    secondoAnello = TEXTURE(\"tetto.JPG\")(T(3)(0.8)(CYLINDER([0.9,0.1])(30)))\n",
    "    terzoAnello = TEXTURE(\"tetto.JPG\")(T(3)(0.6)(CYLINDER([1,0.1])(30)))\n",
    "    quartoAnello = TEXTURE(\"tetto.JPG\")(T(3)(0.4)(CYLINDER([1.1,0.1])(30)))\n",
    "    fregioCircolare = TEXTURE(\"tetto.JPG\")(T(3)(0.2)(CYLINDER([1.2,0.1])(30)))\n",
    "    sfera = R([1,2])(-PI/4)(R([1,3])(PI/2)((sferaDimezzataX)))\n",
    "    cilindro =CYLINDER([1.1,0.3])(30)\n",
    "    cilindro1 = T([1,2,3])([-0.15,-0.2,0.1])(CUBOID([0.3,0.4,0.15]))\n",
    "    cilindro2 = CYLINDER([0.2,0.3])(30)\n",
    "    cilindroTop=DIFFERENCE([cilindro2,cilindro1])\n",
    "    return TOP([STRUCT([TEXTURE(\"intonacoMuri.JPG\")(cilindro),TEXTURE(\"tetto.JPG\")(T(3)(0.2)(sfera)),primoAnello,fregioCircolare,secondoAnello,\n",
    "                        terzoAnello,quartoAnello]),TEXTURE(\"ttop.JPG\")(cilindroTop)])"
   ]
  },
  {
   "cell_type": "code",
   "execution_count": 25,
   "metadata": {},
   "outputs": [],
   "source": [
    "tettoECupola=STRUCT([tetto(),T([1,2,3])([-225,140,110])(S([1,2,3])([70,70,70])(cupola()))])"
   ]
  },
  {
   "cell_type": "code",
   "execution_count": 26,
   "metadata": {},
   "outputs": [],
   "source": [
    "prato = TEXTURE(\"prato.JPG\")(T([1,2])([-350,-350])(CUBOID([1000,1000])))"
   ]
  },
  {
   "cell_type": "code",
   "execution_count": 27,
   "metadata": {},
   "outputs": [],
   "source": [
    "corpoVilla14 = STRUCT([perimetroFinestrato(),(basamentoScalaDx),(basamentoScalaSx),tettuccioSx(),tettuccioDx()])"
   ]
  },
  {
   "cell_type": "code",
   "execution_count": 28,
   "metadata": {},
   "outputs": [
    {
     "data": {
      "text/plain": [
       "<pyplasm.xgepy.Hpc; proxy of <Swig Object of type 'std::shared_ptr< Hpc > *' at 0x7f573bbf8f30> >"
      ]
     },
     "execution_count": 28,
     "metadata": {},
     "output_type": "execute_result"
    }
   ],
   "source": [
    "VIEW(corpoVilla14)"
   ]
  },
  {
   "cell_type": "code",
   "execution_count": 29,
   "metadata": {},
   "outputs": [],
   "source": [
    "corpoVilla=STRUCT([corpoVilla14,T([1,2])([154*2-12,-6.5])(R([1,2])(PI/2)(corpoVilla14))])"
   ]
  },
  {
   "cell_type": "code",
   "execution_count": 30,
   "metadata": {},
   "outputs": [
    {
     "data": {
      "text/plain": [
       "<pyplasm.xgepy.Hpc; proxy of <Swig Object of type 'std::shared_ptr< Hpc > *' at 0x7f573bbf8fc0> >"
      ]
     },
     "execution_count": 30,
     "metadata": {},
     "output_type": "execute_result"
    }
   ],
   "source": [
    "VIEW(corpoVilla)"
   ]
  },
  {
   "cell_type": "code",
   "execution_count": 31,
   "metadata": {},
   "outputs": [],
   "source": [
    "VillaCapra = STRUCT([corpoVilla,T([1,2])([154*2-5,290])(R([1,2])(PI)(corpoVilla)),T([1,2,3])([415,-23,200])(S([1,2])([1.2,1.2])(tettoECupola)),prato])"
   ]
  },
  {
   "cell_type": "code",
   "execution_count": 34,
   "metadata": {},
   "outputs": [
    {
     "data": {
      "text/plain": [
       "<pyplasm.xgepy.Hpc; proxy of <Swig Object of type 'std::shared_ptr< Hpc > *' at 0x7f573bbeb720> >"
      ]
     },
     "execution_count": 34,
     "metadata": {},
     "output_type": "execute_result"
    }
   ],
   "source": [
    "VIEW(VillaCapra)"
   ]
  },
  {
   "cell_type": "code",
   "execution_count": null,
   "metadata": {},
   "outputs": [],
   "source": []
  }
 ],
 "metadata": {
  "kernelspec": {
   "display_name": "Python 2",
   "language": "python",
   "name": "python2"
  },
  "language_info": {
   "codemirror_mode": {
    "name": "ipython",
    "version": 2
   },
   "file_extension": ".py",
   "mimetype": "text/x-python",
   "name": "python",
   "nbconvert_exporter": "python",
   "pygments_lexer": "ipython2",
   "version": "2.7.12"
  }
 },
 "nbformat": 4,
 "nbformat_minor": 2
}
