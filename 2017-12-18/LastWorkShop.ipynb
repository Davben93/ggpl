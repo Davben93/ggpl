{
 "cells": [
  {
   "cell_type": "code",
   "execution_count": 1,
   "metadata": {},
   "outputs": [
    {
     "name": "stdout",
     "output_type": "stream",
     "text": [
      "Evaluating fenvs.py..\n",
      "...fenvs.py imported in 0.027388 seconds\n"
     ]
    }
   ],
   "source": [
    "from pyplasm import*\n",
    "from larlib import*\n",
    "import math\n",
    "import csv"
   ]
  },
  {
   "cell_type": "code",
   "execution_count": 2,
   "metadata": {},
   "outputs": [],
   "source": [
    "def perimetro(): \n",
    "    with open(\"VillaCapra1.4.lines\", \"rb\") as file:\n",
    "        file_reader = csv.reader(file, delimiter=\",\")\n",
    "        chiavi = {} ### diizionario delle chiavi\n",
    "        nodi = [] ### array con i vertici\n",
    "        archi= [] ### array con gli archi, ovvero gli spigoli\n",
    "        i = 0 ### inizializzo un contatore\n",
    "    \n",
    "        for righe in file_reader:\n",
    "            riga0 = math.floor(float(righe[0])*100)/100\n",
    "            riga1 = math.floor(float(righe[1])*100)/100\n",
    "            riga2 = math.floor(float(righe[2])*100)/100\n",
    "            riga3 = math.floor(float(righe[3])*100)/100\n",
    "        \n",
    "            if not(riga0,riga1) in chiavi.keys():\n",
    "                chiavi[(riga0,riga1)] = i\n",
    "                nodi.append((riga0,riga1))\n",
    "                i = i+1\n",
    "            \n",
    "            if not(riga2,riga3) in chiavi.keys():\n",
    "                chiavi[(riga2,riga3)] = i\n",
    "                nodi.append((riga2,riga3))\n",
    "                i = i+1\n",
    "            archi.append((chiavi[(riga0,riga1)],(chiavi[(riga2,riga3)])))\n",
    "        pavimento = (CUBOID([850,600]))\n",
    "        corpoVilla = MULTEXTRUDE(OFFSET([7,7])(STRUCT(MKPOLS([nodi,archi]))))(250)\n",
    "    return corpoVilla"
   ]
  },
  {
   "cell_type": "code",
   "execution_count": 3,
   "metadata": {},
   "outputs": [],
   "source": [
    "perimetro = (perimetro())"
   ]
  },
  {
   "cell_type": "code",
   "execution_count": 4,
   "metadata": {},
   "outputs": [],
   "source": [
    "def columna(dm,h,h_base):\n",
    "    \n",
    "    cylndr = COMP([JOIN,TRUNCONE([dm/2,0.8*(dm/2),h])])(24)\n",
    "    \n",
    "    torus_bot = COMP([JOIN,TORUS([dm/12,dm/2])])([8,24])\n",
    "    \n",
    "    torus_top = COMP([JOIN,TORUS([0.8*(dm/12),0.8*(dm/2)])])([8,27])\n",
    "    \n",
    "    base = COMP([T([1,2])([7*(dm/-12),7*(dm/-23)]),CUBOID])([7*(dm/6),7*(dm/6),h_base])\n",
    "    \n",
    "    base_top = COMP([T([1,2])([7*(dm/-12),7*(dm/-12)]),CUBOID])([7*(dm/6),7*(dm/6),dm/6])\n",
    "    \n",
    "    capital = SUM([COMP([JOIN,TRUNCONE([0.8*dm/2, 1.2*dm/2,h/8])])(4),COMP([R([1,2])(PI/4),JOIN,TRUNCONE([0.8*dm/2,1.2*dm/2,\n",
    "                                                                                                         h/8])])(4)]) \n",
    "    return (TOP([TOP([TOP([TOP([TOP([base, torus_bot]), cylndr]), torus_top]), capital]), base_top]))\n",
    "\n"
   ]
  },
  {
   "cell_type": "code",
   "execution_count": 5,
   "metadata": {},
   "outputs": [],
   "source": [
    "def piramide(depth,width,height):\n",
    "    \n",
    "    _width = float(width)\n",
    "    \n",
    "    _scale = float(depth)/_width\n",
    "    \n",
    "    _height = float(height)\n",
    "    \n",
    "    return SCALE(2)(_scale)(ROTATE([1,2])(PI/4)(CONE([_width*(1/SQRT(2)),_height])(4)))\n",
    "\n",
    "def elementoTriangolare():\n",
    "    \n",
    "    return R([1,2])(PI/2)((R([2,3])(-PI)(DIFFERENCE([CUBOID([154/2,154/2,60]),piramide(154,70000,60)]))))"
   ]
  },
  {
   "cell_type": "code",
   "execution_count": 253,
   "metadata": {},
   "outputs": [],
   "source": [
    "def sferaDimezzata (radius):\n",
    "        def GSPHERE0 (subds):\n",
    "            N , M = subds\n",
    "            domain = Hpc(Grid([N*[PI/N],M*[PI/M]]))\n",
    "            domain = MAT([[1,0,0,0],[PI/2,1,0,0],[PI,0,1,0],[0,0,0,1]])(domain)\n",
    "            fx  = lambda p: radius * math.cos(p[0]) * math.sin  (p[1])\n",
    "            fy  = lambda p: radius * math.cos(p[0]) * math.cos (p[1])\n",
    "            fz  = lambda p: radius * math.sin(p[0])\n",
    "            ret=  GMAP([fx, fy, fz])(domain)\n",
    "            return ret\n",
    "        return GSPHERE0"
   ]
  },
  {
   "cell_type": "code",
   "execution_count": 254,
   "metadata": {},
   "outputs": [],
   "source": [
    "def tettoTriangolare(depth,width):\n",
    "    return TEXTURE(\"tetto.jpg\")(S([1,2,3])([22,28.34,30])((ROTATE([1, 2])(PI)(ROTATE([2,3])(PI/2)(\n",
    "        MULTEXTRUDE(MKPOL([[[0, 0],[width/2,width/4],[width,0]],[[1,2,3]],None]))(depth))))))"
   ]
  },
  {
   "cell_type": "code",
   "execution_count": 387,
   "metadata": {},
   "outputs": [
    {
     "data": {
      "text/plain": [
       "<pyplasm.xgepy.Hpc; proxy of <Swig Object of type 'std::shared_ptr< Hpc > *' at 0x7f11084c2990> >"
      ]
     },
     "execution_count": 387,
     "metadata": {},
     "output_type": "execute_result"
    }
   ],
   "source": [
    "p2 = T([1,2])([-144,-420])(perimetro)\n",
    "VIEW(p2)"
   ]
  },
  {
   "cell_type": "code",
   "execution_count": 428,
   "metadata": {},
   "outputs": [
    {
     "data": {
      "text/plain": [
       "<pyplasm.xgepy.Hpc; proxy of <Swig Object of type 'std::shared_ptr< Hpc > *' at 0x7f11084857e0> >"
      ]
     },
     "execution_count": 428,
     "metadata": {},
     "output_type": "execute_result"
    }
   ],
   "source": [
    "finestraFrnt1= T([1,2,3])([-10,20,60])(CUBOID([20,20,50]))\n",
    "finestraFrnt2 = T([1,2,3])([-10,20,220])(CUBOID([20,20,20]))\n",
    "finestraFrnt3 = T([1,2,3])([-10,80,220])(CUBOID([20,20,20]))\n",
    "finestraLat1 = T([1,2,3])([20,-20,60])(CUBOID([20,20,50]))\n",
    "finestraLat2 = T([1,2,3])([20,-20,220])(CUBOID([20,20,20]))\n",
    "finestraLat3 = T([1,2,3])([80,-20,220])(CUBOID([20,20,20]))\n",
    "finestraFrntLat = STRUCT([finestraFrnt1,finestraFrnt2,finestraFrnt3,finestraLat1,finestraLat2,finestraLat3])\n",
    "perimetroFinestrato = DIFFERENCE([p2,finestraFrntLat])\n",
    "VIEW(perimetroFinestrato)\n"
   ]
  },
  {
   "cell_type": "code",
   "execution_count": 429,
   "metadata": {},
   "outputs": [],
   "source": [
    "verandaDx = CUBOID([154/3,143/2,10])"
   ]
  },
  {
   "cell_type": "code",
   "execution_count": 430,
   "metadata": {},
   "outputs": [
    {
     "name": "stdout",
     "output_type": "stream",
     "text": [
      "Child 3\n",
      "Child 3\n",
      "Child 3\n",
      "Child 3\n",
      "Child 3\n",
      "Child 3\n"
     ]
    }
   ],
   "source": [
    "colonnatiVerandaDx = STRUCT([verandaDx,T([1,2,3])([14,-14/2,10])(columna(14,100,10)),\n",
    "                            T([1,2,3])([14,143/2-14,10])(columna(14,100,10)),\n",
    "                            T([1,2,3])([14,143/2-14*3-4,10])(columna(14,100,10))])"
   ]
  },
  {
   "cell_type": "code",
   "execution_count": 431,
   "metadata": {},
   "outputs": [],
   "source": [
    "verandaSx = CUBOID([154/2,154/3,10])"
   ]
  },
  {
   "cell_type": "code",
   "execution_count": 432,
   "metadata": {},
   "outputs": [
    {
     "name": "stdout",
     "output_type": "stream",
     "text": [
      "Child 3\n",
      "Child 3\n",
      "Child 3\n",
      "Child 3\n",
      "Child 3\n",
      "Child 3\n"
     ]
    }
   ],
   "source": [
    "colonnatiVerandaSx = STRUCT([verandaSx,T([2,3])([14/2,10])(columna(14,100,10)),\n",
    "                            T([1,2,3])([14+14+14/2,14/2,10])(columna(14,100,10)),\n",
    "                            T([1,2,3])([154/2-14/2,14/2,10])(columna(14,100,10))])"
   ]
  },
  {
   "cell_type": "code",
   "execution_count": 433,
   "metadata": {},
   "outputs": [],
   "source": [
    "basamentoScala= DIFFERENCE([CUBOID([154,30,60]),T(1)(114)(CUBOID([30,30,50]))])"
   ]
  },
  {
   "cell_type": "code",
   "execution_count": 434,
   "metadata": {},
   "outputs": [],
   "source": [
    "arcata = DIFFERENCE([CUBOID([154/3,10,195]),T(1)(10)(CUBOID([30,10,175]))])"
   ]
  },
  {
   "cell_type": "code",
   "execution_count": 435,
   "metadata": {},
   "outputs": [],
   "source": [
    "scalinataDx=STRUCT([basamentoScala,S([1,2])([1.4,1.11])(T(3)(60)(elementoTriangolare())),T(1)(154-154/3)(arcata)])"
   ]
  },
  {
   "cell_type": "code",
   "execution_count": 436,
   "metadata": {},
   "outputs": [],
   "source": [
    "#VIEW(scalinataDx)"
   ]
  },
  {
   "cell_type": "code",
   "execution_count": 437,
   "metadata": {},
   "outputs": [],
   "source": [
    "scalinataSx=STRUCT([basamentoScala,S([1,2])([1.4,1.11])(T([2,3])([-60,60])(elementoTriangolare())),T([1,2])([154-154/3,30-10])(arcata)])"
   ]
  },
  {
   "cell_type": "code",
   "execution_count": 438,
   "metadata": {},
   "outputs": [],
   "source": [
    "#VIEW(scalinataSx)"
   ]
  },
  {
   "cell_type": "code",
   "execution_count": 440,
   "metadata": {},
   "outputs": [],
   "source": [
    "basamentoScalaDx = T([1,2])([-154,143/2-15])(STRUCT([scalinataDx,T([1,2,3])([154-154/3,15,50])(colonnatiVerandaDx)]))\n",
    "#VIEW(basamentoScalaDx)"
   ]
  },
  {
   "cell_type": "code",
   "execution_count": 441,
   "metadata": {},
   "outputs": [],
   "source": [
    "basamentoScalaSx = T([1,2])([30+154/2-15,-160])(STRUCT([T([1,2,3])([-15,154-154/3,50])(colonnatiVerandaSx),(R([1,2])(PI/2)(scalinataSx))]))"
   ]
  },
  {
   "cell_type": "code",
   "execution_count": 442,
   "metadata": {},
   "outputs": [],
   "source": [
    "tettuccioSx = STRUCT([T([1,2,3])([-50,58,195])(CUBOID([55,88,10])),T([1,2,3])([4,51.5,252])((R([1,2])(PI/2)(S([1,2,3])([1.2,0.7,0.8])(elementoTriangolare()))))])"
   ]
  },
  {
   "cell_type": "code",
   "execution_count": 443,
   "metadata": {},
   "outputs": [],
   "source": [
    "tettuccioDx = STRUCT([R([1,2])(PI)(T([1,2,3])([-150.5,2,195])(CUBOID([87,55,10]))),(T([1,2,3])([60,-57,253])(R([1,2])(PI)(R([1,2])(PI)(S([1,2,3])([1.2,0.7,0.8])(elementoTriangolare())))))])"
   ]
  },
  {
   "cell_type": "code",
   "execution_count": 444,
   "metadata": {},
   "outputs": [],
   "source": [
    "tettox = INTERSECTION([tettoTriangolare1(10,20),T([1,2])([-80,360])(R([1,2])(PI/2)(tettoTriangolare(10,20)))])\n",
    "tetto = DIFFERENCE([tettox,T(1)(-365)(CUBOID([290,350,50]))])"
   ]
  },
  {
   "cell_type": "code",
   "execution_count": 445,
   "metadata": {},
   "outputs": [
    {
     "name": "stdout",
     "output_type": "stream",
     "text": [
      "Child 3\n"
     ]
    }
   ],
   "source": [
    "spessore = CUBOID([0.1,0.1,0.1])\n",
    "sferaDimezzata1 = (sferaDimezzata(1.1)([30,30]))\n",
    "sferaDimezzataX = JOIN([sferaDimezzata1,spessore])"
   ]
  },
  {
   "cell_type": "code",
   "execution_count": 446,
   "metadata": {},
   "outputs": [
    {
     "data": {
      "text/plain": [
       "<pyplasm.xgepy.Hpc; proxy of <Swig Object of type 'std::shared_ptr< Hpc > *' at 0x7f1108531120> >"
      ]
     },
     "execution_count": 446,
     "metadata": {},
     "output_type": "execute_result"
    }
   ],
   "source": [
    "primoAnello = T(3)(1)(CYLINDER([0.7,0.1])(30))\n",
    "secondoAnello = T(3)(0.8)(CYLINDER([0.9,0.1])(30))\n",
    "terzoAnello = T(3)(0.6)(CYLINDER([1,0.1])(30))\n",
    "quartoAnello = T(3)(0.4)(CYLINDER([1.1,0.1])(30))\n",
    "fregioCircolare = T(3)(0.2)(CYLINDER([1.2,0.1])(30))\n",
    "sfera = R([1,2])(-PI/4)(R([1,3])(PI/2)((sferaDimezzataX)))\n",
    "cilindro =CYLINDER([1.1,0.3])(30)\n",
    "cilindro1 = T([1,2,3])([-0.15,-0.2,0.1])(CUBOID([0.3,0.4,0.15]))\n",
    "cilindro2 = CYLINDER([0.2,0.3])(30)\n",
    "cilindroTop=DIFFERENCE([cilindro2,cilindro1])\n",
    "cupola = TOP([STRUCT([cilindro,T(3)(0.2)(sfera),primoAnello,fregioCircolare,secondoAnello,\n",
    "                    terzoAnello,quartoAnello]),cilindroTop])\n",
    "VIEW(cupola)"
   ]
  },
  {
   "cell_type": "code",
   "execution_count": 447,
   "metadata": {},
   "outputs": [],
   "source": [
    "tettoECupola=STRUCT([tetto,T([1,2,3])([-225,140,110])(S([1,2,3])([70,70,70])(cupola))])"
   ]
  },
  {
   "cell_type": "code",
   "execution_count": 448,
   "metadata": {},
   "outputs": [
    {
     "data": {
      "text/plain": [
       "<pyplasm.xgepy.Hpc; proxy of <Swig Object of type 'std::shared_ptr< Hpc > *' at 0x7f1108485c90> >"
      ]
     },
     "execution_count": 448,
     "metadata": {},
     "output_type": "execute_result"
    }
   ],
   "source": [
    "VIEW(tettoECupola)"
   ]
  },
  {
   "cell_type": "code",
   "execution_count": 449,
   "metadata": {},
   "outputs": [],
   "source": [
    "corpoVilla14 = STRUCT([perimetroFinestrato,basamentoScalaDx,basamentoScalaSx,tettuccioSx,tettuccioDx])"
   ]
  },
  {
   "cell_type": "code",
   "execution_count": 450,
   "metadata": {},
   "outputs": [
    {
     "data": {
      "text/plain": [
       "<pyplasm.xgepy.Hpc; proxy of <Swig Object of type 'std::shared_ptr< Hpc > *' at 0x7f1108531840> >"
      ]
     },
     "execution_count": 450,
     "metadata": {},
     "output_type": "execute_result"
    }
   ],
   "source": [
    "VIEW(corpoVilla14)"
   ]
  },
  {
   "cell_type": "code",
   "execution_count": 451,
   "metadata": {},
   "outputs": [],
   "source": [
    "corpoVilla=STRUCT([corpoVilla14,T([1,2])([154*2-12,-6.5])(R([1,2])(PI/2)(corpoVilla14))])"
   ]
  },
  {
   "cell_type": "code",
   "execution_count": 452,
   "metadata": {},
   "outputs": [
    {
     "data": {
      "text/plain": [
       "<pyplasm.xgepy.Hpc; proxy of <Swig Object of type 'std::shared_ptr< Hpc > *' at 0x7f11085318d0> >"
      ]
     },
     "execution_count": 452,
     "metadata": {},
     "output_type": "execute_result"
    }
   ],
   "source": [
    "VIEW(corpoVilla)"
   ]
  },
  {
   "cell_type": "code",
   "execution_count": 453,
   "metadata": {},
   "outputs": [],
   "source": [
    "VillaCapra = STRUCT([corpoVilla,T([1,2])([154*2-5,290])(R([1,2])(PI)(corpoVilla)),T([1,2,3])([415,-23,200])(S([1,2])([1.2,1.2])(tettoECupola))])"
   ]
  },
  {
   "cell_type": "code",
   "execution_count": 455,
   "metadata": {},
   "outputs": [
    {
     "data": {
      "text/plain": [
       "<pyplasm.xgepy.Hpc; proxy of <Swig Object of type 'std::shared_ptr< Hpc > *' at 0x7f1108531360> >"
      ]
     },
     "execution_count": 455,
     "metadata": {},
     "output_type": "execute_result"
    }
   ],
   "source": [
    "VIEW(VillaCapra)"
   ]
  },
  {
   "cell_type": "code",
   "execution_count": null,
   "metadata": {},
   "outputs": [],
   "source": []
  }
 ],
 "metadata": {
  "kernelspec": {
   "display_name": "Python 2",
   "language": "python",
   "name": "python2"
  },
  "language_info": {
   "codemirror_mode": {
    "name": "ipython",
    "version": 2
   },
   "file_extension": ".py",
   "mimetype": "text/x-python",
   "name": "python",
   "nbconvert_exporter": "python",
   "pygments_lexer": "ipython2",
   "version": "2.7.12"
  }
 },
 "nbformat": 4,
 "nbformat_minor": 2
}
