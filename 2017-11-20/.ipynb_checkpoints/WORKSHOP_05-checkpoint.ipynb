{
 "cells": [
  {
   "cell_type": "markdown",
   "metadata": {},
   "source": [
    "# WORKSHOP05"
   ]
  },
  {
   "cell_type": "markdown",
   "metadata": {},
   "source": [
    "Villa Almerico Capra detta La Rotonda (conosciuta anche come Villa Capra Valmarana) è una villa veneta a pianta centrale situata a ridosso della città di Vicenza, poco discosta dalla strada della Riviera Berica.\n",
    "Fatta costruire da Paolo Almerico, che la commissionò ad Andrea Palladio nel 1566-1567."
   ]
  },
  {
   "cell_type": "markdown",
   "metadata": {},
   "source": [
    "![Villa Rotunda-dall'alto'](Villa Rotunda-dall'alto.jpg)"
   ]
  },
  {
   "cell_type": "code",
   "execution_count": 6,
   "metadata": {},
   "outputs": [],
   "source": [
    "#piantina presa dal WEB"
   ]
  },
  {
   "cell_type": "markdown",
   "metadata": {},
   "source": [
    "![Villa_Capra_La_Rotonda_drawings](Villa_Capra_La_Rotonda_drawings.jpg)"
   ]
  },
  {
   "cell_type": "code",
   "execution_count": 7,
   "metadata": {},
   "outputs": [],
   "source": [
    "#piantina realizzata in autocad"
   ]
  },
  {
   "cell_type": "markdown",
   "metadata": {},
   "source": [
    "![piantinaAutocad](piantinaAutocad.JPG)"
   ]
  },
  {
   "cell_type": "markdown",
   "metadata": {},
   "source": [
    "REALIZZAZIONE DI VILLA CAPRA DI Andrea Palladio"
   ]
  },
  {
   "cell_type": "markdown",
   "metadata": {},
   "source": [
    "in questo workshop ho realizzato la piantina della villa utilizzando autocad e inkScape, successivamente ho converito il file autocad in un file di linee (SVG) attrverso il convertiore online del professore"
   ]
  },
  {
   "cell_type": "markdown",
   "metadata": {},
   "source": [
    "una volta ottenuto il file SVG ho eseguito l estrusione della villa per ottenere la mura esterne"
   ]
  },
  {
   "cell_type": "code",
   "execution_count": 2,
   "metadata": {},
   "outputs": [
    {
     "name": "stdout",
     "output_type": "stream",
     "text": [
      "Evaluating fenvs.py..\n",
      "...fenvs.py imported in 0.023602 seconds\n"
     ]
    }
   ],
   "source": [
    "### Importazione delle libreria larlib, math e csv\n",
    "from larlib import *\n",
    "import math\n",
    "import csv\n",
    "with open(\"VillaCapra.lines\", \"rb\") as file:\n",
    "    file_reader = csv.reader(file, delimiter=\",\")\n",
    "    chiavi = {} ### diizionario delle chiavi\n",
    "    nodi = [] ### array con i vertici\n",
    "    archi= [] ### array con gli archi, ovvero gli spigoli\n",
    "    i = 0 ### inizializzo un contatore\n",
    "    \n",
    "    ### scorro le righe dell'intero file. Essendo ogni riga composta da 4 elementi, rispettivamente (x1,y1) e (x2,y2) le quali\n",
    "    ### rappresentano le coordinate dei due vertici di una singola linea, utilizzo la funzione floor della libreria math per\n",
    "    ### arrotondare la cifra decimale all'intero più vicino. Successivamente utilizzo una condizione: se le prime due coordinate\n",
    "    ### non sono presenti nelle chiavi del dizionario, gli assegno un indice e le aggiungo alla lista dei nodi. Ripeto lo \n",
    "    ### stesso procedimento anche per le altre due coordinati. Infine aggiungo l'indice delle coppie di vertici alla lista degli\n",
    "    ### archi.\n",
    "    for righe in file_reader:\n",
    "        riga0 = math.floor(float(righe[0])*100)/100\n",
    "        riga1 = math.floor(float(righe[1])*100)/100\n",
    "        riga2 = math.floor(float(righe[2])*100)/100\n",
    "        riga3 = math.floor(float(righe[3])*100)/100\n",
    "        \n",
    "        if not(riga0,riga1) in chiavi.keys():\n",
    "            chiavi[(riga0,riga1)] = i\n",
    "            nodi.append((riga0,riga1))\n",
    "            i = i+1\n",
    "            \n",
    "        if not(riga2,riga3) in chiavi.keys():\n",
    "            chiavi[(riga2,riga3)] = i\n",
    "            nodi.append((riga2,riga3))\n",
    "            i = i+1\n",
    "        archi.append((chiavi[(riga0,riga1)],(chiavi[(riga2,riga3)])))"
   ]
  },
  {
   "cell_type": "code",
   "execution_count": 5,
   "metadata": {},
   "outputs": [
    {
     "data": {
      "text/plain": [
       "<pyplasm.xgepy.Hpc; proxy of <Swig Object of type 'std::shared_ptr< Hpc > *' at 0x7f34963bfb40> >"
      ]
     },
     "execution_count": 5,
     "metadata": {},
     "output_type": "execute_result"
    }
   ],
   "source": [
    "VIEW(STRUCT(MKPOLS([nodi,archi])))"
   ]
  },
  {
   "cell_type": "markdown",
   "metadata": {},
   "source": [
    "![villaCapraPiantina](villaCapraPiantina.png)"
   ]
  },
  {
   "cell_type": "code",
   "execution_count": null,
   "metadata": {},
   "outputs": [],
   "source": []
  }
 ],
 "metadata": {
  "kernelspec": {
   "display_name": "Python 2",
   "language": "python",
   "name": "python2"
  },
  "language_info": {
   "codemirror_mode": {
    "name": "ipython",
    "version": 2
   },
   "file_extension": ".py",
   "mimetype": "text/x-python",
   "name": "python",
   "nbconvert_exporter": "python",
   "pygments_lexer": "ipython2",
   "version": "2.7.12"
  }
 },
 "nbformat": 4,
 "nbformat_minor": 2
}
