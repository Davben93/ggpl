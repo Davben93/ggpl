{
 "cells": [
  {
   "cell_type": "code",
   "execution_count": 3,
   "metadata": {},
   "outputs": [],
   "source": [
    "### Importazione delle libreria larlib, math e csv\n",
    "from larlib import *\n",
    "import math\n",
    "import csv\n",
    "with open(\"VillaCapra.lines\", \"rb\") as file:\n",
    "    file_reader = csv.reader(file, delimiter=\",\")\n",
    "    chiavi = {} ### diizionario delle chiavi\n",
    "    nodi = [] ### array con i vertici\n",
    "    archi= [] ### array con gli archi, ovvero gli spigoli\n",
    "    i = 0 ### inizializzo un contatore\n",
    "    \n",
    "    ### scorro le righe dell'intero file. Essendo ogni riga composta da 4 elementi, rispettivamente (x1,y1) e (x2,y2) le quali\n",
    "    ### rappresentano le coordinate dei due vertici di una singola linea, utilizzo la funzione floor della libreria math per\n",
    "    ### arrotondare la cifra decimale all'intero più vicino. Successivamente utilizzo una condizione: se le prime due coordinate\n",
    "    ### non sono presenti nelle chiavi del dizionario, gli assegno un indice e le aggiungo alla lista dei nodi. Ripeto lo \n",
    "    ### stesso procedimento anche per le altre due coordinati. Infine aggiungo l'indice delle coppie di vertici alla lista degli\n",
    "    ### archi.\n",
    "    for righe in file_reader:\n",
    "        riga0 = math.floor(float(righe[0])*100)/100\n",
    "        riga1 = math.floor(float(righe[1])*100)/100\n",
    "        riga2 = math.floor(float(righe[2])*100)/100\n",
    "        riga3 = math.floor(float(righe[3])*100)/100\n",
    "        \n",
    "        if not(riga0,riga1) in chiavi.keys():\n",
    "            chiavi[(riga0,riga1)] = i\n",
    "            nodi.append((riga0,riga1))\n",
    "            i = i+1\n",
    "            \n",
    "        if not(riga2,riga3) in chiavi.keys():\n",
    "            chiavi[(riga2,riga3)] = i\n",
    "            nodi.append((riga2,riga3))\n",
    "            i = i+1\n",
    "        archi.append((chiavi[(riga0,riga1)],(chiavi[(riga2,riga3)])))"
   ]
  },
  {
   "cell_type": "code",
   "execution_count": 4,
   "metadata": {},
   "outputs": [
    {
     "data": {
      "text/plain": [
       "<pyplasm.xgepy.Hpc; proxy of <Swig Object of type 'std::shared_ptr< Hpc > *' at 0x7f9e2ad2d0f0> >"
      ]
     },
     "execution_count": 4,
     "metadata": {},
     "output_type": "execute_result"
    }
   ],
   "source": [
    "VIEW(STRUCT(MKPOLS([nodi,archi])))"
   ]
  },
  {
   "cell_type": "code",
   "execution_count": null,
   "metadata": {},
   "outputs": [],
   "source": []
  }
 ],
 "metadata": {
  "kernelspec": {
   "display_name": "Python 2",
   "language": "python",
   "name": "python2"
  },
  "language_info": {
   "codemirror_mode": {
    "name": "ipython",
    "version": 2
   },
   "file_extension": ".py",
   "mimetype": "text/x-python",
   "name": "python",
   "nbconvert_exporter": "python",
   "pygments_lexer": "ipython2",
   "version": "2.7.12"
  }
 },
 "nbformat": 4,
 "nbformat_minor": 2
}
