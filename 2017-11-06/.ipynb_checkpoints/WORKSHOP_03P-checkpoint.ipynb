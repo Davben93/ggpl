{
 "cells": [
  {
   "cell_type": "markdown",
   "metadata": {},
   "source": [
    "# Leonardo’s centralized church schemes"
   ]
  },
  {
   "cell_type": "markdown",
   "metadata": {},
   "source": [
    "![asburnian](Codex_ashburnham.png)"
   ]
  },
  {
   "cell_type": "code",
   "execution_count": 1,
   "metadata": {},
   "outputs": [
    {
     "name": "stdout",
     "output_type": "stream",
     "text": [
      "Evaluating fenvs.py..\n",
      "...fenvs.py imported in 0.025485 seconds\n"
     ]
    }
   ],
   "source": [
    "from larlib import *"
   ]
  },
  {
   "cell_type": "code",
   "execution_count": 2,
   "metadata": {},
   "outputs": [
    {
     "name": "stdout",
     "output_type": "stream",
     "text": [
      "Child 3\n"
     ]
    }
   ],
   "source": [
    "\n",
    "#cerchio = CYLINDER([2,5])(30)\n",
    "sfera = SPHERE(1)([30,30])\n",
    "str = DIFFERENCE([CUBOID([1,1,1]),sfera])\n",
    "VIEW(str)\n",
    "sferaDimezzata = DIFFERENCE([sfera,])"
   ]
  },
  {
   "cell_type": "code",
   "execution_count": 3,
   "metadata": {},
   "outputs": [
    {
     "data": {
      "text/plain": [
       "<pyplasm.xgepy.Hpc; proxy of <Swig Object of type 'std::shared_ptr< Hpc > *' at 0x7fd24e7db210> >"
      ]
     },
     "execution_count": 3,
     "metadata": {},
     "output_type": "execute_result"
    }
   ],
   "source": [
    "VIEW(sfera)"
   ]
  },
  {
   "cell_type": "code",
   "execution_count": 21,
   "metadata": {},
   "outputs": [],
   "source": [
    "def larSphere(radius=1,angle1=PI,angle2=2*PI):\n",
    "    def larSphere0(shape=[18,36]):\n",
    "        V,CV = larIntervals(shape,'simplex')([angle1,angle2])\n",
    "        V = larTranslate([-angle1/2,-angle2/2])(V)\n",
    "        domain = V,CV\n",
    "        x = lambda p : radius*COS(p[0])*COS(p[1])\n",
    "        y = lambda p : radius*COS(p[0])*SIN(p[1])\n",
    "        z = lambda p : radius*SIN(p[0])\n",
    "        return larMap([x,y,z])(domain)\n",
    "    return larSphere0"
   ]
  },
  {
   "cell_type": "code",
   "execution_count": 22,
   "metadata": {},
   "outputs": [],
   "source": [
    "def larBall(radius=1,angle1=PI,angle2=2*PI):\n",
    "    def larBall0(shape=[18,36]):\n",
    "        V,CV = checkModel(larSphere(radius,angle1,angle2)(shape))\n",
    "        return V,[range(len(V))]\n",
    "    return larBall0"
   ]
  },
  {
   "cell_type": "code",
   "execution_count": null,
   "metadata": {},
   "outputs": [],
   "source": [
    "radius=1\n",
    "angle1=PI\n",
    "angle2=1*PI\n",
    "shape=[18,36]\n",
    "V,CV = checkModel(larSphere(radius,angle1,angle2)(shape))\n",
    "VIEW((EXPLODE(1.2,1.2,1)MKPOLS([V,[range(len(V))]])))"
   ]
  },
  {
   "cell_type": "code",
   "execution_count": 2,
   "metadata": {},
   "outputs": [],
   "source": [
    "def sferaDimezzata (radius):\n",
    "        def GSPHERE0 (subds):\n",
    "            N , M = subds\n",
    "            domain = Hpc(Grid([N*[PI/N],M*[PI/M]]))\n",
    "            domain = MAT([[1,0,0,0],[PI/2,1,0,0],[PI,0,1,0],[0,0,0,1]])(domain)\n",
    "            fx  = lambda p: radius * math.cos(p[0]) * math.sin  (p[1])\n",
    "            fy  = lambda p: radius * math.cos(p[0]) * math.cos (p[1])\n",
    "            fz  = lambda p: radius * math.sin(p[0])\n",
    "            ret=  GMAP([fx, fy, fz])(domain)\n",
    "            return ret\n",
    "        return GSPHERE0"
   ]
  },
  {
   "cell_type": "code",
   "execution_count": 3,
   "metadata": {},
   "outputs": [],
   "source": [
    "def spicchioSfera (radius):\n",
    "    #spessore = CUBOID([3/2*radius,3/2*radius,3/2*radius])\n",
    "    #differenza = CUBOID([radius,radius,radius])\n",
    "        def GSPHERE0 (subds):\n",
    "            N , M = subds\n",
    "            domain = Hpc(Grid([N*[PI/N/2],(M*[(0.1*PI/M)])]))\n",
    "            domain = MAT([[1,0,0,0],[PI/2,1,0,0],[PI,0,1,0],[0,0,0,1]])(domain)\n",
    "            fx  = lambda p: radius * math.cos(p[0]) * math.sin  (p[1])\n",
    "            fy  = lambda p: radius * math.cos(p[0]) * math.cos (p[1])\n",
    "            fz  = lambda p: radius * math.sin(p[0])\n",
    "            ret=  GMAP([fx, fy, fz])(domain)\n",
    "            return ret\n",
    "        #spicchio1 = SUM([GSPHERE0,spessore])\n",
    "        return GSPHERE0"
   ]
  },
  {
   "cell_type": "code",
   "execution_count": 4,
   "metadata": {},
   "outputs": [
    {
     "name": "stdout",
     "output_type": "stream",
     "text": [
      "Child 3\n"
     ]
    }
   ],
   "source": [
    "spessore = CUBOID([1,1,1])\n",
    "spicchioSfera1 = (R([1,2])(-PI/7)(spicchioSfera(0.5)([30,30])))\n",
    "spicchio1 = SUM([spicchioSfera1,spessore])\n"
   ]
  },
  {
   "cell_type": "code",
   "execution_count": 79,
   "metadata": {},
   "outputs": [
    {
     "name": "stdout",
     "output_type": "stream",
     "text": [
      "Child 3\n",
      "Child 3\n",
      "Child 3\n"
     ]
    },
    {
     "data": {
      "text/plain": [
       "<pyplasm.xgepy.Hpc; proxy of <Swig Object of type 'std::shared_ptr< Hpc > *' at 0x7f659f22d7e0> >"
      ]
     },
     "execution_count": 79,
     "metadata": {},
     "output_type": "execute_result"
    }
   ],
   "source": [
    "quartoDiCilindro =CYLINDER([1,2.9])(30)\n",
    "primoAnello = T(3)(2.7)(CYLINDER([1.1,0.1])(30))\n",
    "fregioCircolare = T(3)(2.91)(CYLINDER([1.2,0.1])(30))\n",
    "\n",
    "\n",
    "\n",
    "spicchioSfera1 = (R([1,2])(-PI/7)(spicchioSfera(1)([30,30])))\n",
    "spicchioSfera2 = (R([1,2])(-PI/2.5)(spicchioSfera(1)([30,30])))\n",
    "quartoDiSfera =  R([1,2])(-PI/4)(R([1,3])(PI/2)(sferaDimezzata(1)([30,30])))\n",
    "fregiSpicchi = STRUCT([spicchioSfera1,spicchioSfera2])\n",
    "#VIEW(fregiSpicchi)\n",
    "#VIEW(DIFFERENCE([quartoDiSfera,fregiSpicchi]))\n",
    "\n",
    "\n",
    "antaSxPortonaccio = T([1])([0.2])(CUBOID([0.1,0.1,1.2]))\n",
    "travePortonaccio = T([1,3])([-0.1,1.2])(CUBOID([0.4,0.1,0.1]))\n",
    "trave2Portonaccio = T([1,3])([-0.2,1.3])(CUBOID([0.6,0.1,0.15]))\n",
    "tettinoSxPortonaccio =  R([1,3])(-PI/4)(T([1,3])([-0.2,1.3])(CUBOID([0.7,0.1,0.15])))\n",
    "traveEAntaSx = TOP([STRUCT([antaSxPortonaccio,\n",
    "                            travePortonaccio,\n",
    "                            trave2Portonaccio])\n",
    "                    ,tettinoSxPortonaccio])\n",
    "fregioSX = T([1,2,3])([0.4,-0.05,0.5])(R([1,2])(PI-10)(CUBOID([0.15,0.1,1.9])))\n",
    "fregio2SX = T([1,2,3])([0.8,-0.4,0.5])(R([1,2])(PI-10)(CUBOID([0.15,0.1,1.9])))\n",
    "frSxPrtc = T(2)(0.95)(STRUCT([traveEAntaSx,fregioSX,fregio2SX]))\n",
    "frSxPrtc2 = T(2)(0.95)(STRUCT([T([1,2])([1.09,-0.95])(R([1,2])(PI/2)(traveEAntaSx)),fregioSX,fregio2SX]))\n",
    "#VIEW(frSxPrtc2)\n",
    "\n",
    "porticcioloScanalato = STRUCT([quartoDiCilindro,frSxPrtc,primoAnello,fregioCircolare])\n",
    "porticcioloScanalato1 = STRUCT([quartoDiCilindro,frSxPrtc2,primoAnello,fregioCircolare])\n",
    "porticcioloScanalato2 = STRUCT([quartoDiCilindro,primoAnello,fregioCircolare])\n",
    "#VIEW(porticcioloScanalato1)"
   ]
  },
  {
   "cell_type": "code",
   "execution_count": 80,
   "metadata": {},
   "outputs": [
    {
     "name": "stdout",
     "output_type": "stream",
     "text": [
      "Child 3\n"
     ]
    },
    {
     "data": {
      "text/plain": [
       "<pyplasm.xgepy.Hpc; proxy of <Swig Object of type 'std::shared_ptr< Hpc > *' at 0x7f659e12eb10> >"
      ]
     },
     "execution_count": 80,
     "metadata": {},
     "output_type": "execute_result"
    }
   ],
   "source": [
    "quartoDiSfera =  R([1,2])(-PI/4)(R([1,3])(PI/2)(S(1)(1.3)(sferaDimezzata(1.1)([30,30]))))\n",
    "cupolozza = STRUCT([porticcioloScanalato,T(3)(2.7)(quartoDiSfera)])\n",
    "cupolozza1 = STRUCT([porticcioloScanalato1,T(3)(2.7)(quartoDiSfera)])\n",
    "cupola = STRUCT([porticcioloScanalato2,T(3)(2.7)(quartoDiSfera)])\n",
    "#VIEW(cupolozza1)"
   ]
  },
  {
   "cell_type": "code",
   "execution_count": 52,
   "metadata": {},
   "outputs": [
    {
     "data": {
      "text/plain": [
       "<pyplasm.xgepy.Hpc; proxy of <Swig Object of type 'std::shared_ptr< Hpc > *' at 0x7f659e119060> >"
      ]
     },
     "execution_count": 52,
     "metadata": {},
     "output_type": "execute_result"
    }
   ],
   "source": [
    "colonnato = DIFFERENCE([CUBOID([1.1,1.1,5.6]),T([1,2,3])([0.18,1,0.1])(CUBOID([0.8,0.2,0.5])),T([1,2,3])([0.43,1,1])(CUBOID([0.3,0.2,3.5]))])\n",
    "colonnatoEcupola = TOP([colonnato,S([1,2,3])([0.3,0.3,0.3])(cupola)])\n",
    "strutturaCentrale = STRUCT([T([1,2])([4,4])(colonnatoEcupola),CUBOID([5,5,5.5])])\n",
    "strtCntrECupolone = STRUCT([strutturaCentrale,T([1,2,3])([2.5,2.5,1])(S([1,2,3])([2,2,2])(cupola)),T([1,2,3])([2.5,2.5,9])(S([1,2,3])([0.3,0.3,0.3])(cupola))])\n",
    "#VIEW(strtCntrECupolone)"
   ]
  },
  {
   "cell_type": "code",
   "execution_count": 96,
   "metadata": {},
   "outputs": [
    {
     "data": {
      "text/plain": [
       "<pyplasm.xgepy.Hpc; proxy of <Swig Object of type 'std::shared_ptr< Hpc > *' at 0x7f659e12e960> >"
      ]
     },
     "execution_count": 96,
     "metadata": {},
     "output_type": "execute_result"
    }
   ],
   "source": [
    "abbozzoDiCupolozza = STRUCT([cupolozza,T([1,2])([2.5,-2.5])(cupolozza1),T([1,2])([-2.5,-5])(strtCntrECupolone)])\n",
    "quartoDiCupolozza = INTERSECTION([T([2])([-2.5])(CUBOID([4,4,10.5])),abbozzoDiCupolozza])\n",
    "VIEW(quartoDiCupolozza)"
   ]
  },
  {
   "cell_type": "code",
   "execution_count": 108,
   "metadata": {},
   "outputs": [
    {
     "name": "stdout",
     "output_type": "stream",
     "text": [
      "Child 3\n",
      "Child 3\n",
      "Child 3\n"
     ]
    }
   ],
   "source": [
    "sferaX = sferaDimezzata(1)([30,30])\n",
    "sferaX1 = COLOR(RED)(SPHERE(1)([30,30]))\n",
    "sferaX2 = COLOR(YELLOW)(SPHERE(2)([30,30]))\n",
    "VIEW(DIFFERENCE([T([1,3])([1,1])(sferaX1),sferaX2]))\n",
    "cubo = CUBOID([1,1,1])\n",
    "cilindro\n",
    "#VIEW(INTERSECTION([sferaX,cubo]))\n",
    "#VIEW(sferaX)"
   ]
  },
  {
   "cell_type": "code",
   "execution_count": null,
   "metadata": {},
   "outputs": [],
   "source": [
    "def torus (radius):\n",
    "    r1 , r2 = radius\n",
    "    def TORUS0 (subds):\n",
    "        N , M = subds\n",
    "        a=0.5*(r2-r1)\n",
    "        c=0.5*(r1+r2)\n",
    "        #domain = EMBED(1)(Hpc(Grid([N*[2*PI/N],M*[2*PI/M]])))\n",
    "        domain = EMBED(1)(PROD([ Hpc(Grid([N*[2*PI/N]])),  Hpc(Grid([M*[2*PI/M]])) ]))\n",
    "        fx =   lambda p: (c+a*math.cos(p[1])) * math.cos(p[0])\n",
    "        fy =   lambda p: (c+a*math.cos(p[1])) * math.sin(p[0])\n",
    "        fz =   lambda p: a*math.sin(p[1])\n",
    "        return GMAP([fx,fy,fz])(domain)\n",
    "    return TORUS0"
   ]
  },
  {
   "cell_type": "code",
   "execution_count": 122,
   "metadata": {},
   "outputs": [
    {
     "name": "stdout",
     "output_type": "stream",
     "text": [
      "Child 3\n"
     ]
    },
    {
     "data": {
      "text/plain": [
       "<pyplasm.xgepy.Hpc; proxy of <Swig Object of type 'std::shared_ptr< Hpc > *' at 0x7fdd66ea86f0> >"
      ]
     },
     "execution_count": 122,
     "metadata": {},
     "output_type": "execute_result"
    }
   ],
   "source": [
    "VIEW(torus([5,2])([20,2]))"
   ]
  },
  {
   "cell_type": "code",
   "execution_count": 111,
   "metadata": {},
   "outputs": [],
   "source": [
    "def cone1(args):\n",
    "    radius , height = args\n",
    "    def CONE0(N):\n",
    "        basis = CIRCLE(radius)([N,1])\n",
    "        apex = T(3)(height)(SIMPLEX(0))\n",
    "        return  JOIN([basis, apex])\n",
    "    return CONE0"
   ]
  },
  {
   "cell_type": "code",
   "execution_count": 114,
   "metadata": {},
   "outputs": [
    {
     "data": {
      "text/plain": [
       "<pyplasm.xgepy.Hpc; proxy of <Swig Object of type 'std::shared_ptr< Hpc > *' at 0x7fdd66ea8240> >"
      ]
     },
     "execution_count": 114,
     "metadata": {},
     "output_type": "execute_result"
    }
   ],
   "source": [
    "VIEW(cone1([5,10])(10))"
   ]
  },
  {
   "cell_type": "code",
   "execution_count": 125,
   "metadata": {},
   "outputs": [],
   "source": [
    "def truncone (args):\n",
    "    R1 , R2 , H = args\n",
    "    def TRUNCONE0 (N):\n",
    "        domain = Plasm.power( QUOTE([2*PI/N for i in range(N)]) , QUOTE([1])  )\n",
    "        def fn(p):\n",
    "            return [\n",
    "                (R1+p[1]*(R2-R1))*math.cos(p[0]),\t\n",
    "                (R1+p[1]*(R2-R1))*math.sin(p[0]),\n",
    "                (H*p[1])\n",
    "            ]\n",
    "        return MAP(fn)(domain)\n",
    "    return TRUNCONE0"
   ]
  },
  {
   "cell_type": "code",
   "execution_count": 126,
   "metadata": {},
   "outputs": [
    {
     "data": {
      "text/plain": [
       "<pyplasm.xgepy.Hpc; proxy of <Swig Object of type 'std::shared_ptr< Hpc > *' at 0x7fdd68003870> >"
      ]
     },
     "execution_count": 126,
     "metadata": {},
     "output_type": "execute_result"
    }
   ],
   "source": [
    "VIEW(truncone([5,5,10])(7))"
   ]
  },
  {
   "cell_type": "code",
   "execution_count": 97,
   "metadata": {},
   "outputs": [],
   "source": [
    "def cupolozzaMinore():\n",
    "    baseCilindrica = CYLINDER([1,5])(30)\n",
    "    cupolozza = SPHERE()"
   ]
  },
  {
   "cell_type": "code",
   "execution_count": 1,
   "metadata": {},
   "outputs": [
    {
     "ename": "RuntimeError",
     "evalue": "module compiled against API version 0xb but this version of numpy is 0xa",
     "output_type": "error",
     "traceback": [
      "\u001b[0;31m---------------------------------------------------------------------------\u001b[0m",
      "\u001b[0;31mRuntimeError\u001b[0m                              Traceback (most recent call last)",
      "\u001b[0;31mRuntimeError\u001b[0m: module compiled against API version 0xb but this version of numpy is 0xa"
     ]
    },
    {
     "ename": "ImportError",
     "evalue": "C extension: numpy.core.multiarray failed to import not built. If you want to import pandas from the source directory, you may need to run 'python setup.py build_ext --inplace --force' to build the C extensions first.",
     "output_type": "error",
     "traceback": [
      "\u001b[0;31m---------------------------------------------------------------------------\u001b[0m",
      "\u001b[0;31mImportError\u001b[0m                               Traceback (most recent call last)",
      "\u001b[0;32m<ipython-input-1-38d4b0363d82>\u001b[0m in \u001b[0;36m<module>\u001b[0;34m()\u001b[0m\n\u001b[0;32m----> 1\u001b[0;31m \u001b[0;32mimport\u001b[0m \u001b[0mpandas\u001b[0m\u001b[0;34m\u001b[0m\u001b[0m\n\u001b[0m",
      "\u001b[0;32m/usr/local/lib/python2.7/dist-packages/pandas/__init__.py\u001b[0m in \u001b[0;36m<module>\u001b[0;34m()\u001b[0m\n\u001b[1;32m     33\u001b[0m                       \u001b[0;34m\"pandas from the source directory, you may need to run \"\u001b[0m\u001b[0;34m\u001b[0m\u001b[0m\n\u001b[1;32m     34\u001b[0m                       \u001b[0;34m\"'python setup.py build_ext --inplace --force' to build \"\u001b[0m\u001b[0;34m\u001b[0m\u001b[0m\n\u001b[0;32m---> 35\u001b[0;31m                       \"the C extensions first.\".format(module))\n\u001b[0m\u001b[1;32m     36\u001b[0m \u001b[0;34m\u001b[0m\u001b[0m\n\u001b[1;32m     37\u001b[0m \u001b[0;32mfrom\u001b[0m \u001b[0mdatetime\u001b[0m \u001b[0;32mimport\u001b[0m \u001b[0mdatetime\u001b[0m\u001b[0;34m\u001b[0m\u001b[0m\n",
      "\u001b[0;31mImportError\u001b[0m: C extension: numpy.core.multiarray failed to import not built. If you want to import pandas from the source directory, you may need to run 'python setup.py build_ext --inplace --force' to build the C extensions first."
     ]
    }
   ],
   "source": [
    "import pandas"
   ]
  },
  {
   "cell_type": "code",
   "execution_count": 100,
   "metadata": {},
   "outputs": [
    {
     "name": "stdout",
     "output_type": "stream",
     "text": [
      "Child 3\n"
     ]
    },
    {
     "data": {
      "text/plain": [
       "<pyplasm.xgepy.Hpc; proxy of <Swig Object of type 'std::shared_ptr< Hpc > *' at 0x7fdd66f6c5a0> >"
      ]
     },
     "execution_count": 100,
     "metadata": {},
     "output_type": "execute_result"
    }
   ],
   "source": []
  },
  {
   "cell_type": "code",
   "execution_count": null,
   "metadata": {},
   "outputs": [],
   "source": []
  }
 ],
 "metadata": {
  "kernelspec": {
   "display_name": "Python 2",
   "language": "python",
   "name": "python2"
  },
  "language_info": {
   "codemirror_mode": {
    "name": "ipython",
    "version": 2
   },
   "file_extension": ".py",
   "mimetype": "text/x-python",
   "name": "python",
   "nbconvert_exporter": "python",
   "pygments_lexer": "ipython2",
   "version": "2.7.12"
  }
 },
 "nbformat": 4,
 "nbformat_minor": 2
}
