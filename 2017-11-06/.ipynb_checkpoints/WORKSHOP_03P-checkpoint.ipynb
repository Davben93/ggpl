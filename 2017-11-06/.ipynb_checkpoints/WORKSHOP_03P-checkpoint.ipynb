{
 "cells": [
  {
   "cell_type": "markdown",
   "metadata": {},
   "source": [
    "# Leonardo’s centralized church schemes"
   ]
  },
  {
   "cell_type": "markdown",
   "metadata": {},
   "source": [
    "# WORKSHOP03"
   ]
  },
  {
   "cell_type": "markdown",
   "metadata": {},
   "source": [
    "![asburnian](Codex_ashburnham.png)"
   ]
  },
  {
   "cell_type": "markdown",
   "metadata": {},
   "source": [
    "# IN QUESTO WORKSHOP IL TASK É QUELLO DI REALIZZARE IN PYPLASM UN MODELLO DI CHIESA REALIZZATO DA LEONARDO"
   ]
  },
  {
   "cell_type": "markdown",
   "metadata": {},
   "source": [
    "L'idea di base è di sfruttare la simmetria della chiesa quindi realizzare 1/4 di chiesa per poi eseguire una prima simmetria e quindi metà chiesa e sucessivamente eseguire nuovamente la simmetria per realizzare la totalità della chiesa"
   ]
  },
  {
   "cell_type": "code",
   "execution_count": 1,
   "metadata": {},
   "outputs": [
    {
     "name": "stdout",
     "output_type": "stream",
     "text": [
      "Evaluating fenvs.py..\n",
      "...fenvs.py imported in 0.026885 seconds\n"
     ]
    }
   ],
   "source": [
    "from larlib import *"
   ]
  },
  {
   "cell_type": "code",
   "execution_count": 2,
   "metadata": {},
   "outputs": [],
   "source": [
    " # inizilmente ho giocato con le funzioni in fenv a disposizione per modellare delle sfere utili \n",
    "# per la costruzione della cupula"
   ]
  },
  {
   "cell_type": "code",
   "execution_count": 4,
   "metadata": {},
   "outputs": [],
   "source": [
    "\n",
    "def larBall(radius,angle1,angle2):    # 1,PI,2*PI\n",
    "    def larBall0(shape):                #[18,36]\n",
    "        V,CV = checkModel(larSphere(radius,angle1,angle2)(shape))\n",
    "        return V,[range(len(V))]\n",
    "    return larBall0"
   ]
  },
  {
   "cell_type": "code",
   "execution_count": 5,
   "metadata": {},
   "outputs": [],
   "source": [
    "def sferaDimezzata (radius):\n",
    "        def GSPHERE0 (subds):\n",
    "            N , M = subds\n",
    "            domain = Hpc(Grid([N*[PI/N],M*[PI/M]]))\n",
    "            domain = MAT([[1,0,0,0],[PI/2,1,0,0],[PI,0,1,0],[0,0,0,1]])(domain)\n",
    "            fx  = lambda p: radius * math.cos(p[0]) * math.sin  (p[1])\n",
    "            fy  = lambda p: radius * math.cos(p[0]) * math.cos (p[1])\n",
    "            fz  = lambda p: radius * math.sin(p[0])\n",
    "            ret=  GMAP([fx, fy, fz])(domain)\n",
    "            return ret\n",
    "        return GSPHERE0"
   ]
  },
  {
   "cell_type": "code",
   "execution_count": 6,
   "metadata": {},
   "outputs": [],
   "source": [
    "def spicchioSfera (radius):\n",
    "    #spessore = CUBOID([3/2*radius,3/2*radius,3/2*radius])\n",
    "    #differenza = CUBOID([radius,radius,radius])\n",
    "        def GSPHERE0 (subds):\n",
    "            N , M = subds\n",
    "            domain = Hpc(Grid([N*[PI/N/2],(M*[(0.1*PI/M)])]))\n",
    "            domain = MAT([[1,0,0,0],[PI/2,1,0,0],[PI,0,1,0],[0,0,0,1]])(domain)\n",
    "            fx  = lambda p: radius * math.cos(p[0]) * math.sin  (p[1])\n",
    "            fy  = lambda p: radius * math.cos(p[0]) * math.cos (p[1])\n",
    "            fz  = lambda p: radius * math.sin(p[0])\n",
    "            ret=  GMAP([fx, fy, fz])(domain)\n",
    "            return ret\n",
    "        #spicchio1 = SUM([GSPHERE0,spessore])\n",
    "        return GSPHERE0"
   ]
  },
  {
   "cell_type": "code",
   "execution_count": 8,
   "metadata": {},
   "outputs": [],
   "source": [
    "# qui realizzo la parte frontale del quarto di chiesa con il relativo porticciolo e i fregi"
   ]
  },
  {
   "cell_type": "code",
   "execution_count": 9,
   "metadata": {},
   "outputs": [
    {
     "name": "stdout",
     "output_type": "stream",
     "text": [
      "Child 3\n",
      "Child 3\n",
      "Child 3\n"
     ]
    }
   ],
   "source": [
    "\n",
    "quartoDiCilindro =CYLINDER([1,2.9])(30)\n",
    "primoAnello = T(3)(2.7)(CYLINDER([1.1,0.1])(30))\n",
    "fregioCircolare = T(3)(2.91)(CYLINDER([1.2,0.1])(30))\n",
    "\n",
    "\n",
    "# la sfera che realizzo é una sfera dimezzata che rappresenta la mini cupola situata sopra il porticciolo\n",
    "spicchioSfera1 = (R([1,2])(-PI/7)(spicchioSfera(1)([30,30])))\n",
    "spicchioSfera2 = (R([1,2])(-PI/2.5)(spicchioSfera(1)([30,30])))\n",
    "quartoDiSfera =  R([1,2])(-PI/4)(R([1,3])(PI/2)(sferaDimezzata(1)([30,30]))) \n",
    "fregiSpicchi = STRUCT([spicchioSfera1,spicchioSfera2])\n",
    "#VIEW(fregiSpicchi)\n",
    "#VIEW(DIFFERENCE([quartoDiSfera,fregiSpicchi]))\n",
    "\n",
    "\n",
    "antaSxPortonaccio = T([1])([0.2])(CUBOID([0.1,0.1,1.2]))\n",
    "travePortonaccio = T([1,3])([-0.1,1.2])(CUBOID([0.4,0.1,0.1]))\n",
    "trave2Portonaccio = T([1,3])([-0.2,1.3])(CUBOID([0.6,0.1,0.15]))\n",
    "tettinoSxPortonaccio =  R([1,3])(-PI/4)(T([1,3])([-0.2,1.3])(CUBOID([0.7,0.1,0.15])))\n",
    "traveEAntaSx = TOP([STRUCT([antaSxPortonaccio,\n",
    "                            travePortonaccio,\n",
    "                            trave2Portonaccio])\n",
    "                    ,tettinoSxPortonaccio])\n",
    "fregioSX = T([1,2,3])([0.4,-0.05,0.5])(R([1,2])(PI-10)(CUBOID([0.15,0.1,1.9])))\n",
    "fregio2SX = T([1,2,3])([0.8,-0.4,0.5])(R([1,2])(PI-10)(CUBOID([0.15,0.1,1.9])))\n",
    "frSxPrtc = T(2)(0.95)(STRUCT([traveEAntaSx,fregioSX,fregio2SX]))\n",
    "frSxPrtc2 = T(2)(0.95)(STRUCT([T([1,2])([1.09,-0.95])(R([1,2])(PI/2)(traveEAntaSx)),fregioSX,fregio2SX]))\n",
    "#VIEW(frSxPrtc2)\n",
    "\n",
    "#porticciolo frontale del 1/4 di chiesa :\n",
    "\n",
    "porticcioloScanalato = STRUCT([quartoDiCilindro,frSxPrtc,primoAnello,fregioCircolare])\n",
    "porticcioloScanalato1 = STRUCT([quartoDiCilindro,frSxPrtc2,primoAnello,fregioCircolare])\n",
    "porticcioloScanalato2 = STRUCT([quartoDiCilindro,primoAnello,fregioCircolare])\n",
    "#VIEW(porticcioloScanalato1)"
   ]
  },
  {
   "cell_type": "code",
   "execution_count": 11,
   "metadata": {},
   "outputs": [
    {
     "name": "stdout",
     "output_type": "stream",
     "text": [
      "Child 3\n"
     ]
    }
   ],
   "source": [
    "# definisco lo spessore della sfera per riempire il volume della cupola realizzata a partire \n",
    "# da una sfera vuota\n",
    "spessore = CUBOID([0.1,0.1,0.1])\n",
    "sferaDimezzata1 = (sferaDimezzata(1.1)([30,30]))\n",
    "sferaDimezzataX = JOIN([sferaDimezzata1,spessore])\n",
    "#VIEW(sferaDimezzataX)"
   ]
  },
  {
   "cell_type": "code",
   "execution_count": 13,
   "metadata": {},
   "outputs": [],
   "source": [
    "#metto insieme la cupola con l ingresso del portonaccio\n",
    "quartoDiSfera = R([1,2])(-PI/4)(R([1,3])(PI/2)((sferaDimezzataX)))\n",
    "cupolozza = STRUCT([porticcioloScanalato,T(3)(3)(quartoDiSfera)])\n",
    "cupolozza1 = STRUCT([porticcioloScanalato1,T(3)(3)(quartoDiSfera)])\n",
    "cupola = STRUCT([porticcioloScanalato2,T(3)(3)(quartoDiSfera)])\n",
    "#VIEW(cupolozza1)"
   ]
  },
  {
   "cell_type": "code",
   "execution_count": 16,
   "metadata": {},
   "outputs": [],
   "source": [
    "#il corpo dei muri della chiesa vengono messi insieme al portonaccio con la cupola sovrastante\n",
    "colonnato = DIFFERENCE([CUBOID([1.1,1.1,5.6]),T([1,2,3])([0.18,1,0.1])(CUBOID([0.8,0.2,0.5])),T([1,2,3])([0.43,1,1])(CUBOID([0.3,0.2,3.5]))])\n",
    "colonnatoEcupola = TOP([colonnato,S([1,2,3])([0.3,0.3,0.3])(cupola)])\n",
    "strutturaCentrale = STRUCT([T([1,2])([4,4])(colonnatoEcupola),CUBOID([5,5,5.5])])\n",
    "strtCntrECupolone = STRUCT([strutturaCentrale,T([1,2,3])([2.5,2.5,1])(S([1,2,3])([2,2,2])(cupola)),T([1,2,3])([2.5,2.5,9])(S([1,2,3])([0.3,0.3,0.3])(cupola))])\n",
    "#VIEW(strtCntrECupolone)"
   ]
  },
  {
   "cell_type": "code",
   "execution_count": 18,
   "metadata": {},
   "outputs": [],
   "source": [
    "# qui realizzo il quarto di chiesa \n",
    "abbozzoDiCupolozza = STRUCT([cupolozza,T([1,2])([2.5,-2.5])(cupolozza1),T([1,2])([-2.5,-5])(strtCntrECupolone)])\n",
    "quartoDiCupolozza = INTERSECTION([T([2])([-2.5])(CUBOID([4,4,10.5])),abbozzoDiCupolozza])\n",
    "#VIEW(quartoDiCupolozza)"
   ]
  },
  {
   "cell_type": "markdown",
   "metadata": {},
   "source": [
    "![asburnian](Codex_ashburnham1.4.png)"
   ]
  },
  {
   "cell_type": "code",
   "execution_count": 19,
   "metadata": {},
   "outputs": [
    {
     "data": {
      "text/plain": [
       "<pyplasm.xgepy.Hpc; proxy of <Swig Object of type 'std::shared_ptr< Hpc > *' at 0x7f4a9117d1e0> >"
      ]
     },
     "execution_count": 19,
     "metadata": {},
     "output_type": "execute_result"
    }
   ],
   "source": [
    "#primo passaggio dal quarto di chiesa realizzo la prima metà \n",
    "metaCupolozza = STRUCT([quartoDiCupolozza,T([1,2])([-2.5,-2.5])(R([1,2])(PI/2)(quartoDiCupolozza))])\n",
    "VIEW(metaCupolozza)"
   ]
  },
  {
   "cell_type": "markdown",
   "metadata": {},
   "source": [
    "![asburnian](Codex_ashburnham1.2.png)"
   ]
  },
  {
   "cell_type": "code",
   "execution_count": 22,
   "metadata": {},
   "outputs": [
    {
     "data": {
      "text/plain": [
       "<pyplasm.xgepy.Hpc; proxy of <Swig Object of type 'std::shared_ptr< Hpc > *' at 0x7f4a911f3090> >"
      ]
     },
     "execution_count": 22,
     "metadata": {},
     "output_type": "execute_result"
    }
   ],
   "source": [
    "#passaggio finale: eseguo la simmetria di metà chiesa per realizzare i 4/4 di chiesa\n",
    "codexAshburnian = COLOR(BROWN)(STRUCT([metaCupolozza,(T(2)(-5)(R([1,2])(PI)(metaCupolozza)))]))\n",
    "VIEW(codexAshburnian)"
   ]
  },
  {
   "cell_type": "markdown",
   "metadata": {},
   "source": [
    "![asburnian](Codex_ashburnham4.4.1.png)"
   ]
  },
  {
   "cell_type": "markdown",
   "metadata": {},
   "source": [
    "![asburnian](Codex_ashburnham4.4.2.png)"
   ]
  },
  {
   "cell_type": "code",
   "execution_count": null,
   "metadata": {},
   "outputs": [],
   "source": []
  }
 ],
 "metadata": {
  "kernelspec": {
   "display_name": "Python 2",
   "language": "python",
   "name": "python2"
  },
  "language_info": {
   "codemirror_mode": {
    "name": "ipython",
    "version": 2
   },
   "file_extension": ".py",
   "mimetype": "text/x-python",
   "name": "python",
   "nbconvert_exporter": "python",
   "pygments_lexer": "ipython2",
   "version": "2.7.12"
  }
 },
 "nbformat": 4,
 "nbformat_minor": 2
}
